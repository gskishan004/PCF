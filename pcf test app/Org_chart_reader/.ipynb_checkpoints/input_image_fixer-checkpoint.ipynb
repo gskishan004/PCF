{
 "cells": [
  {
   "cell_type": "code",
   "execution_count": 1,
   "metadata": {
    "collapsed": true
   },
   "outputs": [],
   "source": [
    "import cv2\n",
    "import numpy as np"
   ]
  },
  {
   "cell_type": "code",
   "execution_count": 8,
   "metadata": {
    "collapsed": true
   },
   "outputs": [],
   "source": [
    "im = cv2.imread(\"Organization Chart.jpg\")"
   ]
  },
  {
   "cell_type": "code",
   "execution_count": 9,
   "metadata": {
    "collapsed": false
   },
   "outputs": [],
   "source": [
    "#blurring the image\n",
    "\n",
    "# im = cv2.medianBlur(im,5)\n",
    "# im = cv2.filter2D(im, -1, kernel)"
   ]
  },
  {
   "cell_type": "code",
   "execution_count": 10,
   "metadata": {
    "collapsed": false
   },
   "outputs": [],
   "source": [
    "#converting the image to grey scale\n",
    "\n",
    "gray_im = cv2.cvtColor(im, cv2.COLOR_BGR2GRAY)"
   ]
  },
  {
   "cell_type": "code",
   "execution_count": 11,
   "metadata": {
    "collapsed": false,
    "scrolled": true
   },
   "outputs": [
    {
     "data": {
      "text/plain": [
       "True"
      ]
     },
     "execution_count": 11,
     "metadata": {},
     "output_type": "execute_result"
    }
   ],
   "source": [
    "#thresholding the image\n",
    "\n",
    "th_im = cv2.adaptiveThreshold(gray_im,255,cv2.ADAPTIVE_THRESH_GAUSSIAN_C,\\\n",
    "            cv2.THRESH_BINARY,11,2)\n",
    "\n",
    "#saving the image\n",
    "\n",
    "cv2.imwrite('test_inp.jpg',gray_im)"
   ]
  },
  {
   "cell_type": "code",
   "execution_count": 12,
   "metadata": {
    "collapsed": false
   },
   "outputs": [
    {
     "data": {
      "text/plain": [
       "True"
      ]
     },
     "execution_count": 12,
     "metadata": {},
     "output_type": "execute_result"
    }
   ],
   "source": [
    "#doing dilationa and then erosion to sharpen the image\n",
    "\n",
    "#uint8\tUnsigned integer (0 to 255)\n",
    "\n",
    "kernel = np.ones((2,2), np.uint8)\n",
    "img_2 = im.copy()\n",
    "\n",
    "# img_2 = cv2.medianBlur(img_2,5)\n",
    "# img_2 = cv2.dilate(img_2, kernel, iterations=1)\n",
    "# img_2 = cv2.erode(img_2, kernel, iterations=1)\n",
    "img_2 = cv2.cvtColor(img_2, cv2.COLOR_BGR2GRAY)\n",
    "img_2 = cv2.adaptiveThreshold(img_2,255,cv2.ADAPTIVE_THRESH_GAUSSIAN_C,cv2.THRESH_BINARY,11,2)\n",
    "\n",
    "#img_2 = cv2.erode(img_2, kernel, iterations=1)\n",
    "\n",
    "#img_2 = cv2.dilate(img_2, kernel, iterations=1)\n",
    "# img_2 = cv2.adaptiveThreshold(img_2,255,cv2.ADAPTIVE_THRESH_GAUSSIAN_C,cv2.THRESH_BINARY,11,2)\n",
    "\n",
    "\n",
    "\n",
    "cv2.imwrite('test_inp2.jpg',img_2)"
   ]
  },
  {
   "cell_type": "code",
   "execution_count": null,
   "metadata": {
    "collapsed": true
   },
   "outputs": [],
   "source": []
  },
  {
   "cell_type": "code",
   "execution_count": null,
   "metadata": {
    "collapsed": true
   },
   "outputs": [],
   "source": []
  },
  {
   "cell_type": "code",
   "execution_count": null,
   "metadata": {
    "collapsed": true
   },
   "outputs": [],
   "source": []
  }
 ],
 "metadata": {
  "kernelspec": {
   "display_name": "Python 2",
   "language": "python",
   "name": "python2"
  },
  "language_info": {
   "codemirror_mode": {
    "name": "ipython",
    "version": 2
   },
   "file_extension": ".py",
   "mimetype": "text/x-python",
   "name": "python",
   "nbconvert_exporter": "python",
   "pygments_lexer": "ipython2",
   "version": "2.7.13"
  }
 },
 "nbformat": 4,
 "nbformat_minor": 0
}
