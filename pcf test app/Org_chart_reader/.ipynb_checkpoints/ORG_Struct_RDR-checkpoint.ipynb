{
 "cells": [
  {
   "cell_type": "code",
   "execution_count": 68,
   "metadata": {
    "collapsed": false
   },
   "outputs": [
    {
     "data": {
      "text/plain": [
       "'\\nTO DO\\n------\\n>Alternative OCR\\n>Remove \\n and space from second string\\n>Fix problem where orientation of rectangle causes errors\\n>Fix this problem \\n        |\\n    ---------\\n    |       |\\n\\n'"
      ]
     },
     "execution_count": 68,
     "metadata": {},
     "output_type": "execute_result"
    }
   ],
   "source": [
    "'''\n",
    "TO DO\n",
    "------\n",
    ">Alternative OCR\n",
    ">Remove \\n and space from second string\n",
    ">Fix problem where orientation of rectangle causes errors\n",
    ">Fix this problem \n",
    "        |\n",
    "    ---------\n",
    "    |       |\n",
    "\n",
    "'''"
   ]
  },
  {
   "cell_type": "code",
   "execution_count": 69,
   "metadata": {
    "collapsed": true
   },
   "outputs": [],
   "source": [
    "#all the required imports\n",
    "\n",
    "import argparse\n",
    "import imutils\n",
    "from PIL import Image\n",
    "from pytesseract import image_to_string as its\n",
    "import pytesseract\n",
    "import cv2\n",
    "import numpy as np\n",
    "from scipy import misc\n",
    "import string\n",
    "import sys\n",
    "import re\n",
    "\n",
    "from Queue import Queue\n",
    "from PIL import Image\n",
    "\n"
   ]
  },
  {
   "cell_type": "code",
   "execution_count": 70,
   "metadata": {
    "collapsed": true
   },
   "outputs": [],
   "source": [
    "#path to tesseract installed on the machine\n",
    "\n",
    "pytesseract.pytesseract.tesseract_cmd = 'C:/Program Files (x86)/Tesseract-OCR/tesseract.exe'"
   ]
  },
  {
   "cell_type": "code",
   "execution_count": 71,
   "metadata": {
    "collapsed": false
   },
   "outputs": [],
   "source": [
    "#input\n",
    "\n",
    "#image = cv2.imread(\"Input_1.png\")\n",
    "#image = cv2.imread(\"Input_2.png\")\n",
    "image = cv2.imread(\"inp2.png\")\n",
    "#image = cv2.imread(\"test2.jpg\")"
   ]
  },
  {
   "cell_type": "code",
   "execution_count": 72,
   "metadata": {
    "collapsed": false
   },
   "outputs": [],
   "source": [
    "# load the query image, compute the ratio of the old height\n",
    "# to the new height, clone it, and resize it\n",
    "ratio = image.shape[0] / 300.0\n",
    "orig = image.copy()\n",
    "#image = imutils.resize(image, height = 300)\n",
    " \n",
    "# convert the image to grayscale, blur it, and find edges\n",
    "# in the image\n",
    "image = orig\n",
    "gray = cv2.cvtColor(image, cv2.COLOR_BGR2GRAY)\n",
    "gray = cv2.bilateralFilter(gray, 11, 17, 17)\n",
    "edged = cv2.Canny(gray, 30, 200)\n",
    "#cv2.imshow('image',edged)\n",
    "#cv2.waitKey(0)"
   ]
  },
  {
   "cell_type": "code",
   "execution_count": 73,
   "metadata": {
    "collapsed": false
   },
   "outputs": [
    {
     "name": "stdout",
     "output_type": "stream",
     "text": [
      "1485\n"
     ]
    }
   ],
   "source": [
    "# finding all the countours\n",
    "\n",
    "(cnts, _) = cv2.findContours(gray.copy(), cv2.RETR_TREE, cv2.CHAIN_APPROX_SIMPLE)\n",
    "print len(cnts)\n",
    "#cnts = sorted(cnts, key = cv2.contourArea, reverse = True)[:10]"
   ]
  },
  {
   "cell_type": "code",
   "execution_count": 74,
   "metadata": {
    "collapsed": true
   },
   "outputs": [],
   "source": [
    "\n",
    "def r2centresDiff( (cX,cY), centres):\n",
    "    for i in range(-2,3):\n",
    "        for j in range(-2,3):\n",
    "            if(cX+i,cY+j) in centres:\n",
    "                return False\n",
    "    \n",
    "    return True"
   ]
  },
  {
   "cell_type": "code",
   "execution_count": 75,
   "metadata": {
    "collapsed": true
   },
   "outputs": [],
   "source": [
    "#vertices of rectangles\n",
    "testArea = []\n",
    "\n",
    "#vertex for cropping\n",
    "vertForCropping = []\n",
    "\n",
    "#list of centres\n",
    "centres = []\n",
    "\n",
    "text=[]\n",
    "\n",
    "#dict\n",
    "dict_centre_vert = dict()\n",
    "dict_centre_text=dict()\n",
    "dict_centre_names=dict()\n",
    "dict_name_perc=dict()"
   ]
  },
  {
   "cell_type": "code",
   "execution_count": 76,
   "metadata": {
    "collapsed": true
   },
   "outputs": [],
   "source": [
    "#finding area of the org img\n",
    "\n",
    "height, width, channels = image.shape\n",
    "figArea = height*width"
   ]
  },
  {
   "cell_type": "code",
   "execution_count": 77,
   "metadata": {
    "collapsed": false,
    "scrolled": false
   },
   "outputs": [
    {
     "name": "stdout",
     "output_type": "stream",
     "text": [
      "(113, 1493) (333, 1611)\n",
      "25960\n",
      "Fo (Sngapore\n",
      "wrters Festal &\n",
      "[u'Fo (Sngapore', u'wrters Festal &']\n",
      "#--------------------------#\n",
      "(1620, 1142) (1839, 1278)\n",
      "29784\n",
      "Yeoh Phee Suan\n",
      "0 (Communications\n",
      "& Marketing)\n",
      "[u'Yeoh Phee Suan', u'0 (Communications', u'& Marketing)']\n",
      "#--------------------------#\n",
      "(113, 1142) (333, 1277)\n",
      "29700\n",
      "May Ton\n",
      "0 (Urerar Ars)\n",
      "[u'May Ton', u'0 (Urerar Ars)']\n",
      "#--------------------------#\n",
      "(1341, 1004) (1560, 1139)\n",
      "29565\n",
      "Bannon Jean\n",
      "0 (AR & Adin)\n",
      "[u'Bannon Jean', u'0 (AR & Adin)']\n",
      "#--------------------------#\n",
      "(1620, 821) (1839, 957)\n",
      "29784\n",
      "Sabina Chin\n",
      "0 (Prechet\n",
      "Development\n",
      "[u'Sabina Chin', u'0 (Prechet', u'Development']\n",
      "#--------------------------#\n",
      "(1341, 821) (1560, 960)\n",
      "30441\n",
      "Alke Koh\n",
      "co\n",
      "[u'Alke Koh', u'co']\n",
      "#--------------------------#\n",
      "(420, 821) (639, 957)\n",
      "29784\n",
      "Eline ig\n",
      "S0 Performing\n",
      "Ans)\n",
      "[u'Eline ig', u'S0 Performing', u'Ans)']\n",
      "#--------------------------#\n",
      "(113, 821) (333, 957)\n",
      "29920\n",
      "50 vina An)\n",
      "[u'50 vina An)']\n",
      "#--------------------------#\n",
      "(242, 653) (506, 788)\n",
      "35640\n",
      "tow Eng Teong\n",
      "ACE (Setor\n",
      "Deveicpment\n",
      "[u'tow Eng Teong', u'ACE (Setor', u'Deveicpment']\n",
      "#--------------------------#\n",
      "(866, 651) (1140, 786)\n",
      "36990\n",
      "Kenneth Kuok\n",
      "AC (Yancing &\n",
      "Engagement)\n",
      "[u'Kenneth Kuok', u'AC (Yancing &', u'Engagement)']\n",
      "#--------------------------#\n",
      "(867, 485) (1142, 599)\n",
      "31350\n",
      "Paulton\n",
      "pyro\n",
      "[u'Paulton', u'pyro']\n",
      "#--------------------------#\n",
      "(866, 303) (1142, 429)\n",
      "34776\n",
      "foss Danil\n",
      "co\n",
      "[u'foss Danil', u'co']\n",
      "#--------------------------#\n"
     ]
    },
    {
     "data": {
      "text/plain": [
       "-1"
      ]
     },
     "execution_count": 77,
     "metadata": {},
     "output_type": "execute_result"
    }
   ],
   "source": [
    "#finding only the rectangles from the list of given contours \n",
    "for c in cnts:\n",
    "    \n",
    "    peri = cv2.arcLength(c, True)\n",
    "    #approx = cv2.approxPolyDP(c, 0.02 * peri, True)\n",
    "    approx = cv2.approxPolyDP(c, 100, True)\n",
    "    #area = cv2.approxPolyDP(c, 0.1, True)\n",
    "    \n",
    "    \n",
    "    if len(approx) == 4 :\n",
    "        M = cv2.moments(c)\n",
    "        try:\n",
    "            cX = int(M[\"m10\"] / M[\"m00\"])\n",
    "            cY = int(M[\"m01\"] / M[\"m00\"])\n",
    "        except:\n",
    "            pass\n",
    "        if ( r2centresDiff((cX,cY),centres)):\n",
    "            \n",
    "            testArea.append(c)\n",
    "            \n",
    "            #finding the rectangles and doing OCR\n",
    "            \n",
    "            minX = 1000000000\n",
    "            minY = 1000000000\n",
    "            maxX = 0\n",
    "            maxY = 0\n",
    "            for a in approx:\n",
    "                x= a[0][0]\n",
    "                y= a[0][1]\n",
    "                if x<=minX and y<=minY:\n",
    "                    minX=x\n",
    "                    minY=y\n",
    "                if x>=maxX and y>=maxY:\n",
    "                    maxX=x\n",
    "                    maxY=y\n",
    "\n",
    "            area = (maxX - minX)*(maxY - minY)\n",
    "\n",
    "            #area of the reactangles should be greater than 0.0014 and less than 0.6 the total area of the image\n",
    "            minArea = figArea * 0.0014\n",
    "            maxArea = figArea * 0.6\n",
    "\n",
    "            if area>minArea and area<maxArea:\n",
    "\n",
    "                print (minX,minY),(maxX,maxY)\n",
    "                print area\n",
    "\n",
    "                cv2.rectangle(image,(minX-2,minY-2),(maxX+2,maxY+2),(35,245,198),3)\n",
    "\n",
    "                v = [(minX,minY),(maxX,maxY)]\n",
    "                vertForCropping.append(v)\n",
    "                centre = (cX,cY)\n",
    "                centres.append(centre)\n",
    "                dict_centre_vert[centre] = v\n",
    "\n",
    "                # cropping the rectangles from the image and doing the OCR\n",
    "\n",
    "                cropped_img = image[minY:maxY, minX:maxX] # Crop from y1:y2, x1:x2\n",
    "                magnified_img = misc.imresize(cropped_img, 50)\n",
    "                cv2.imwrite(\"cropped.png\",magnified_img)\n",
    "                cv2.waitKey(0)\n",
    "                t= its(Image.open('cropped.png'))\n",
    "\n",
    "                print t\n",
    "\n",
    "\n",
    "                dict_centre_text[centre]= t\n",
    "\n",
    "\n",
    "\n",
    "                #s = string.split(t, '\\n') #s[0] = entity name , s[1] = % owned\n",
    "                #s= t.split('\\n',1)\n",
    "                s = t.splitlines()\n",
    "                print s\n",
    "                index =0\n",
    "\n",
    "                #if client company\n",
    "                if len(s)==1:\n",
    "                    name = s[0]\n",
    "                    perc = \"100%\"\n",
    "\n",
    "                #for all other rectangles\n",
    "                else:\n",
    "                    for x in s:\n",
    "                        #print \"x is : \" ,x\n",
    "                        if u'' == x:\n",
    "                            index = index+1\n",
    "                            print \"found blank\"\n",
    "                        else:\n",
    "                            if index == 0:\n",
    "                                name = x\n",
    "                                index = index+1\n",
    "                            else:\n",
    "                                perc = x\n",
    "\n",
    "                '''\n",
    "\n",
    "                new_perc = re.sub('[^0-9]','', perc)\n",
    "                dict_name_perc[name] = new_perc\n",
    "                dict_centre_names[centre] = name\n",
    "\n",
    "                print \"name  \", name\n",
    "                print \"perc \", new_perc\n",
    "                text.append(t)\n",
    "                '''\n",
    "\n",
    "                print \"#--------------------------#\"\n",
    "\n",
    "\n",
    "cv2.imshow(\"image\",image)\n",
    "cv2.waitKey(0)\n",
    "\n"
   ]
  },
  {
   "cell_type": "code",
   "execution_count": 78,
   "metadata": {
    "collapsed": false
   },
   "outputs": [
    {
     "data": {
      "text/plain": [
       "True"
      ]
     },
     "execution_count": 78,
     "metadata": {},
     "output_type": "execute_result"
    }
   ],
   "source": [
    "cv2.imwrite('k.jpg',image)"
   ]
  },
  {
   "cell_type": "code",
   "execution_count": 11,
   "metadata": {
    "collapsed": false
   },
   "outputs": [
    {
     "name": "stdout",
     "output_type": "stream",
     "text": [
      "{}\n",
      "{}\n",
      "{}\n"
     ]
    }
   ],
   "source": [
    "print dict_centre_names\n",
    "print dict_name_perc\n",
    "print dict_centre_vert"
   ]
  },
  {
   "cell_type": "code",
   "execution_count": 12,
   "metadata": {
    "collapsed": false
   },
   "outputs": [
    {
     "data": {
      "text/plain": [
       "True"
      ]
     },
     "execution_count": 12,
     "metadata": {},
     "output_type": "execute_result"
    }
   ],
   "source": [
    "#Converting the img to negative and removing text\n",
    "\n",
    "negImg = cv2.bitwise_not(image)\n",
    "for vert in vertForCropping:\n",
    "    cv2.rectangle(negImg,(vert[0][0]-2,vert[0][1]-2),(vert[1][0]+2,vert[1][1]+2),(255,255,255),-1)\n",
    "\n",
    "#cv2.imshow(\"image\",negImg)\n",
    "#cv2.waitKey(0)\n",
    "\n",
    "cv2.imwrite(\"neg.png\",negImg)"
   ]
  },
  {
   "cell_type": "code",
   "execution_count": 13,
   "metadata": {
    "collapsed": true
   },
   "outputs": [],
   "source": [
    "# making all the other rectangles black except the start and end\n",
    "\n",
    "def iswhite(value):\n",
    "    if value == (255,255,255):\n",
    "        return True\n",
    "    return False\n",
    "\n",
    "def getNewVertForCropping(vertForCropping, rect1_centre,  rect2_centre):\n",
    "    newVertForCropping=[]\n",
    "    \n",
    "    negImg2=negImg.copy()\n",
    "    \n",
    "\n",
    "    rect1_x1, rect1_y1 = dict_centre_vert[rect1_centre][0]\n",
    "    rect1_x2, rect1_y2 = dict_centre_vert[rect1_centre][1]\n",
    "    \n",
    "    rect2_x1, rect2_y1 = dict_centre_vert[rect2_centre][0]\n",
    "    rect2_x2, rect2_y2 = dict_centre_vert[rect2_centre][1]\n",
    "\n",
    "    #rect1_x1, rect1_y1, rect1_x2, rect1_y2 = exclude_p1[0][0], exclude_p1[0][1], exclude_p1[1][0], exclude_p1[1][1]\n",
    "    #rect2_x1, rect2_y1, rect2_x2, rect2_y2 = exclude_p2[0][0], exclude_p2[0][1], exclude_p2[1][0], exclude_p2[1][1]\n",
    "  \n",
    "    \n",
    "    for vert in vertForCropping:\n",
    "\n",
    "        #this box which is being considered leave it white\n",
    "        if vert[0][0] == rect1_x1 and vert[0][1] ==rect1_y1 and vert[1][0] ==rect1_x2 and vert[1][1] ==rect1_y2:\n",
    "            pass\n",
    "        elif vert[0][0] == rect2_x1 and vert[0][1] ==rect2_y1 and vert[1][0] ==rect2_x2 and vert[1][1] ==rect2_y2:\n",
    "            pass\n",
    "        else:\n",
    "            #make all other boxes black\n",
    "            cv2.rectangle(negImg2,(vert[0][0]-4,vert[0][1]-4),(vert[1][0]+4,vert[1][1]+4),(0,0,0),-1)\n",
    "            cv2.imwrite('blackRectNewNeg.png', negImg2)\n",
    "            #cv2.imshow('image',negImg)"
   ]
  },
  {
   "cell_type": "code",
   "execution_count": 14,
   "metadata": {
    "collapsed": true
   },
   "outputs": [],
   "source": [
    "#code for finding the path b/w start and the end\n",
    "\n",
    "\n",
    "def getadjacent(n):\n",
    "    x,y = n\n",
    "    return [(x-1,y),(x,y-1),(x+1,y),(x,y+1)]\n",
    "\n",
    "def BFS(start, end, pixels):\n",
    "\n",
    "    queue = Queue()\n",
    "    queue.put([start]) # Wrapping the start tuple in a list\n",
    "\n",
    "    while not queue.empty():\n",
    "\n",
    "        path = queue.get() \n",
    "        pixel = path[-1]\n",
    "\n",
    "        if pixel == end:\n",
    "            return path\n",
    "\n",
    "        for adjacent in getadjacent(pixel):\n",
    "            x,y = adjacent\n",
    "            if iswhite(pixels[x,y]):\n",
    "                pixels[x,y] = (127,127,127) # see note\n",
    "                new_path = list(path)\n",
    "                new_path.append(adjacent)\n",
    "                queue.put(new_path)\n",
    "\n",
    "    #print \"Queue has been exhausted. No answer was found.\"\n",
    "\n",
    "\n",
    "\n",
    "    # invoke: python mazesolver.py <mazefile> <outputfile>[.jpg|.png|etc.]\n"
   ]
  },
  {
   "cell_type": "code",
   "execution_count": 15,
   "metadata": {
    "collapsed": true
   },
   "outputs": [],
   "source": [
    "direct_paths=[]\n",
    "\n",
    "def ifPathExists(vertForCropping, rect1_centre, rect2_centre):\n",
    "    getNewVertForCropping(vertForCropping, rect1_centre, rect2_centre)\n",
    "    base_img = Image.open(\"blackRectNewNeg.png\")\n",
    "    base_pixels = base_img.load()\n",
    "\n",
    "    path = BFS(rect1_centre, rect2_centre, base_pixels)\n",
    "\n",
    "    path_img = Image.open(\"blackRectNewNeg.png\")\n",
    "    path_pixels = path_img.load()\n",
    "    \n",
    "    try:\n",
    "        for position in path:\n",
    "            x,y = position\n",
    "            path_pixels[x,y] = (255,0,0) # red\n",
    "\n",
    "        path_img.save('sjhdjk.png')\n",
    "        print 'Path found between' , rect1_centre, ' and ', rect2_centre\n",
    "        direct_paths.append([rect1_centre,rect2_centre])\n",
    "        return True\n",
    "    except:\n",
    "        print 'No path found between' , rect1_centre, ' and ', rect2_centre\n",
    "        return False\n"
   ]
  },
  {
   "cell_type": "code",
   "execution_count": 16,
   "metadata": {
    "collapsed": false
   },
   "outputs": [
    {
     "name": "stdout",
     "output_type": "stream",
     "text": [
      "[]\n"
     ]
    }
   ],
   "source": [
    "print centres"
   ]
  },
  {
   "cell_type": "code",
   "execution_count": 17,
   "metadata": {
    "collapsed": false
   },
   "outputs": [
    {
     "name": "stdout",
     "output_type": "stream",
     "text": [
      "{}\n",
      "--------------------\n",
      "[]\n"
     ]
    }
   ],
   "source": [
    "# getting all the combinations\n",
    "#a = iter(list(range(len(centres))))\n",
    "print dict_centre_vert\n",
    "a = iter(centres)\n",
    "import itertools\n",
    "combinations=[]\n",
    "combinations.extend(itertools.combinations(a, 2))\n",
    "print \"--------------------\"\n",
    "print combinations\n"
   ]
  },
  {
   "cell_type": "code",
   "execution_count": 18,
   "metadata": {
    "collapsed": false
   },
   "outputs": [
    {
     "name": "stdout",
     "output_type": "stream",
     "text": [
      "0\n"
     ]
    }
   ],
   "source": [
    "#finding if path is possible b/w all the combinations of rectnagles\n",
    "\n",
    "num_of_direct_paths = 0\n",
    "\n",
    "for c in combinations:\n",
    "    \n",
    "    if (ifPathExists( vertForCropping, c[0], c[1])):\n",
    "        num_of_direct_paths = num_of_direct_paths + 1\n",
    "        \n",
    "print num_of_direct_paths"
   ]
  },
  {
   "cell_type": "code",
   "execution_count": 19,
   "metadata": {
    "collapsed": false
   },
   "outputs": [
    {
     "name": "stdout",
     "output_type": "stream",
     "text": [
      "[]\n"
     ]
    }
   ],
   "source": [
    "#list of all direct paths \n",
    "print direct_paths"
   ]
  },
  {
   "cell_type": "code",
   "execution_count": 20,
   "metadata": {
    "collapsed": false
   },
   "outputs": [],
   "source": [
    "#list of all direct paths with names\n",
    "for dp in direct_paths:\n",
    "    print dict_centre_names[dp[0]],dict_centre_names[dp[1]]"
   ]
  },
  {
   "cell_type": "code",
   "execution_count": 21,
   "metadata": {
    "collapsed": false
   },
   "outputs": [
    {
     "name": "stdout",
     "output_type": "stream",
     "text": [
      "parent   |   child\n"
     ]
    }
   ],
   "source": [
    "#find parent and child from direct_paths\n",
    "#and putting them in dictionay\n",
    "parentChildDict=dict()\n",
    "print \"parent   |   child\"\n",
    "for dp in direct_paths:\n",
    "    y1 = dp[0][1]\n",
    "    y2 = dp[1][1]\n",
    "\n",
    "    if y1>y2:\n",
    "        print dict_centre_names[dp[1]],dict_centre_names[dp[0]]\n",
    "        if dict_centre_names[dp[1]] in parentChildDict.keys():\n",
    "            parentChildDict[dict_centre_names[dp[1]]].append(dict_centre_names[dp[0]])\n",
    "            \n",
    "        else:    \n",
    "            parentChildDict[dict_centre_names[dp[1]]] =[dict_centre_names[dp[0]]]\n",
    "            \n",
    "    else:\n",
    "        print dict_centre_names[dp[0]],dict_centre_names[dp[1]]\n",
    "        parentChildDict[dict_centre_names[dp[0]]] = [dict_centre_names[dp[1]]]\n",
    "        if dict_centre_names[dp[0]] in parentChildDict.keys():\n",
    "            parentChildDict[dict_centre_names[dp[0]]].append(dict_centre_names[dp[1]])\n",
    "          \n",
    "        else:    \n",
    "            parentChildDict[dict_centre_names[dp[0]]] =[dict_centre_names[dp[1]]]"
   ]
  },
  {
   "cell_type": "code",
   "execution_count": 22,
   "metadata": {
    "collapsed": false
   },
   "outputs": [
    {
     "name": "stdout",
     "output_type": "stream",
     "text": [
      "{}\n"
     ]
    }
   ],
   "source": [
    "print parentChildDict"
   ]
  },
  {
   "cell_type": "code",
   "execution_count": 23,
   "metadata": {
    "collapsed": true
   },
   "outputs": [],
   "source": [
    "#get children of the given parent\n",
    "\n",
    "def getChildren(p):\n",
    "    for key in parentChildDict:\n",
    "        if p == key:\n",
    "            return parentChildDict[p]\n",
    "    return []"
   ]
  },
  {
   "cell_type": "code",
   "execution_count": 24,
   "metadata": {
    "collapsed": true
   },
   "outputs": [],
   "source": [
    "#get parent of a given child\n",
    "\n",
    "def getParent(c):\n",
    "    for key in parentChildDict:\n",
    "        for value in parentChildDict[key]:\n",
    "             if c in value:\n",
    "                    return key\n",
    "    return \"NA\""
   ]
  },
  {
   "cell_type": "code",
   "execution_count": 25,
   "metadata": {
    "collapsed": false
   },
   "outputs": [],
   "source": [
    "\n",
    "#---------- Enter the name of the client ------------\n",
    "client = \"Gringotts Bank\"\n",
    "\n",
    "def getEffectivePercent(c):\n",
    "    listOfEffParents = []\n",
    "    EffPercent = 1.00\n",
    "    \n",
    "    child = c\n",
    "    listOfEffParents.append(child)\n",
    "    while getParent(c) != \"NA\":\n",
    "        parent = getParent(c)\n",
    "        listOfEffParents.append(parent)\n",
    "        c = parent\n",
    "   \n",
    "    for person in listOfEffParents:\n",
    "        EffPercent = EffPercent * float(dict_name_perc[person]) *0.01\n",
    "    \n",
    "    return EffPercent"
   ]
  },
  {
   "cell_type": "code",
   "execution_count": 26,
   "metadata": {
    "collapsed": false
   },
   "outputs": [],
   "source": [
    "# owners of the client company\n",
    "\n",
    "import Queue\n",
    "\n",
    "q = Queue.Queue()\n",
    "\n",
    "\n",
    "\n",
    "q.put(client)\n",
    "\n",
    "#use queue to go through down the whole tree\n",
    "while not q.empty():\n",
    "    p=q.get()\n",
    "    if getChildren != []:\n",
    "        for c in getChildren(p):\n",
    "            q.put(c)\n",
    "    if p != client:\n",
    "        print p,\"has \", getEffectivePercent(p)*100 ,\"% effective ownership of \",client"
   ]
  },
  {
   "cell_type": "code",
   "execution_count": null,
   "metadata": {
    "collapsed": true
   },
   "outputs": [],
   "source": []
  }
 ],
 "metadata": {
  "kernelspec": {
   "display_name": "Python 2",
   "language": "python",
   "name": "python2"
  },
  "language_info": {
   "codemirror_mode": {
    "name": "ipython",
    "version": 2
   },
   "file_extension": ".py",
   "mimetype": "text/x-python",
   "name": "python",
   "nbconvert_exporter": "python",
   "pygments_lexer": "ipython2",
   "version": "2.7.13"
  }
 },
 "nbformat": 4,
 "nbformat_minor": 0
}
