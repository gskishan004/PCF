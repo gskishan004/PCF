{
 "cells": [
  {
   "cell_type": "code",
   "execution_count": 1,
   "metadata": {
    "collapsed": true
   },
   "outputs": [],
   "source": [
    "import numpy as np\n",
    "import cv2\n",
    "import PIL\n",
    "from scipy import misc\n",
    "from PIL import Image\n",
    "from pytesseract import image_to_string \n",
    "import pytesseract\n",
    "import argparse\n",
    "from Queue import Queue"
   ]
  },
  {
   "cell_type": "code",
   "execution_count": 2,
   "metadata": {
    "collapsed": true
   },
   "outputs": [],
   "source": [
    "parentChildDict=dict()\n",
    "direct_paths=[]\n",
    "hasParentList=[]\n",
    "image_path = \"\"\n",
    "dict_centre_vert=dict()\n",
    "dict_centres_path=dict()\n",
    "to_be_removed_paths= []"
   ]
  },
  {
   "cell_type": "code",
   "execution_count": 3,
   "metadata": {
    "collapsed": true
   },
   "outputs": [],
   "source": [
    "def negImg(vertForCropping, image_path):#Converting the img to negative and removing text\n",
    "    image_source = image_path\n",
    "    gray_img = cv2.imread(image_source)\n",
    "    \n",
    "    rect,thresh = cv2.threshold(gray_img,127,255,0)\n",
    "    newImg = cv2.bitwise_not(thresh)\n",
    "   \n",
    "    for vert in vertForCropping:\n",
    "        #print \"whitened rect vert \", vert\n",
    "        cv2.rectangle(newImg,(vert[0],vert[2]),(vert[1],vert[3]),(255,255,255),-3)\n",
    "\n",
    "   \n",
    "\n",
    "    cv2.imwrite(\"123neg.png\",newImg)\n",
    "    #cv2.imshow(\"sdd\", newImg)\n",
    "    return newImg"
   ]
  },
  {
   "cell_type": "code",
   "execution_count": 4,
   "metadata": {
    "collapsed": true
   },
   "outputs": [],
   "source": [
    "# making all the other rectangles black except the start and end\n",
    "\n",
    "def iswhite(value):\n",
    "    #if value == (255,255,255):\n",
    "    #   return True\n",
    "    if value != (0,0,0) and value != (127,127,127):\n",
    "        return True\n",
    "  \n",
    "    return False\n",
    "\n",
    "def getNewVertForCropping(vertForCropping, rect1_centre,  rect2_centre, dict_centre_vert, image_path):\n",
    "    newVertForCropping=[]\n",
    "    \n",
    "    newImg = negImg(vertForCropping, image_path)\n",
    "\n",
    "    \n",
    "    \n",
    "    rect1_x1,  rect1_x2, rect1_y1, rect1_y2 = dict_centre_vert[rect1_centre][0]\n",
    "    \n",
    "    rect2_x1,  rect2_x2, rect2_y1,rect2_y2 = dict_centre_vert[rect2_centre][0]\n",
    "\n",
    "    #rect1_x1, rect1_y1, rect1_x2, rect1_y2 = exclude_p1[0][0], exclude_p1[0][1], exclude_p1[1][0], exclude_p1[1][1]\n",
    "    #rect2_x1, rect2_y1, rect2_x2, rect2_y2 = exclude_p2[0][0], exclude_p2[0][1], exclude_p2[1][0], exclude_p2[1][1]\n",
    "  \n",
    "    \n",
    "    for vert in vertForCropping:\n",
    "\n",
    "        #this box which is being considered leave it white\n",
    "        if vert[0] == rect1_x1 and vert[1] ==rect1_x2 and vert[2] ==rect1_y1 and vert[3] ==rect1_y2:\n",
    "            pass\n",
    "        elif vert[0] == rect2_x1 and vert[1] ==rect2_x2 and vert[2] ==rect2_y1 and vert[3] ==rect2_y2:\n",
    "            pass\n",
    "        else:\n",
    "            #make all other boxes black\n",
    "            cv2.rectangle(newImg,(vert[0]-6,vert[2]-6),(vert[1]+6,vert[3]+6),(0,0,0),-1)\n",
    "            cv2.imwrite('blackRectNewNeg.png', newImg)\n",
    "            #print \"image written\"\n",
    "            \n",
    "    \n",
    "    return True"
   ]
  },
  {
   "cell_type": "code",
   "execution_count": 5,
   "metadata": {
    "collapsed": true
   },
   "outputs": [],
   "source": [
    "#code for finding the path b/w start and the end\n",
    "\n",
    "\n",
    "def getadjacent(n):\n",
    "    x,y = n\n",
    "    return [(x-1,y),(x,y-1),(x+1,y),(x,y+1),(x-4,y),(x,y-4),(x+4,y),(x,y+4)]\n",
    "\n",
    "def BFS(start, end, pixels):\n",
    "\n",
    "    queue = Queue()\n",
    "    queue.put([start]) # Wrapping the start tuple in a list\n",
    "\n",
    "    while not queue.empty():\n",
    "        \n",
    "        path = queue.get() \n",
    "        #print path\n",
    "        pixel = path[-1]\n",
    "\n",
    "        if pixel == end:\n",
    "            return path\n",
    "\n",
    "        for adjacent in getadjacent(pixel):\n",
    "            x,y = adjacent\n",
    "            \n",
    "            if iswhite(pixels[x,y]):\n",
    "                pixels[x,y] = (127,127,127) # see note\n",
    "                new_path = list(path)\n",
    "                new_path.append(adjacent)\n",
    "                queue.put(new_path)\n",
    "\n",
    "    #print \"Queue has been exhausted. No answer was found.\"\n",
    "\n",
    "\n",
    "\n",
    "    # invoke: python mazesolver.py <mazefile> <outputfile>[.jpg|.png|etc.]\n"
   ]
  },
  {
   "cell_type": "code",
   "execution_count": 6,
   "metadata": {
    "collapsed": false
   },
   "outputs": [],
   "source": [
    "\n",
    "\n",
    "def ifPathExists(vertForCropping, rect1_centre, rect2_centre, dict_centre_vert, image_path):\n",
    "    getNewVertForCropping(vertForCropping, rect1_centre, rect2_centre, dict_centre_vert, image_path)\n",
    "    base_img = Image.open(\"blackRectNewNeg.png\")\n",
    "    base_pixels = base_img.load()\n",
    "\n",
    "    path = BFS(rect1_centre, rect2_centre, base_pixels)\n",
    "    \n",
    "    path_img = Image.open(\"blackRectNewNeg.png\")\n",
    "    path_pixels = path_img.load()\n",
    "    \n",
    "    \n",
    "    try:\n",
    "        for position in path:\n",
    "            x,y = position\n",
    "            path_pixels[x,y] = (255,0,0) # red\n",
    "        \n",
    "\n",
    "        #print 'Path found between' , rect1_centre, ' and ', rect2_centre\n",
    "        path_img.save('path.png')\n",
    "\n",
    "        #setting dict_centres_path\n",
    "        if (rect1_centre[1]<rect2_centre[1]):\n",
    "            dict_centres_path[(rect1_centre,rect2_centre)] = path\n",
    "        else:\n",
    "            dict_centres_path[(rect2_centre,rect1_centre)] = path\n",
    "\n",
    "\n",
    "        print rect1_centre,  \" <----> \", rect2_centre\n",
    "        direct_paths.append([rect1_centre,rect2_centre])\n",
    "        return True\n",
    "       \n",
    "    except:\n",
    "        #print \"Processing ...... Finding connections\"\n",
    "        #print 'No path found between' , rect1_centre, ' and ', rect2_centre\n",
    "        return False\n",
    "    "
   ]
  },
  {
   "cell_type": "code",
   "execution_count": 7,
   "metadata": {
    "collapsed": false
   },
   "outputs": [],
   "source": [
    "#combinations = [ ((5,16),(7,-6)),((1,6), (3,-4)),((4,6), (2,8))]\n",
    "def sortCombinations(combinations):\n",
    "    \n",
    "    initial_sort=[]\n",
    "    for c in combinations:\n",
    "        initial_sort.append(sorted(c, key=lambda tup: tup[1]))\n",
    "    \n",
    "    sorted_comb = sorted(initial_sort, key=lambda tup: tup[0][1])\n",
    "   \n",
    "    return sorted_comb\n",
    "    \n",
    "#sortCombinations(combinations)"
   ]
  },
  {
   "cell_type": "markdown",
   "metadata": {
    "collapsed": true
   },
   "source": []
  },
  {
   "cell_type": "code",
   "execution_count": 8,
   "metadata": {
    "collapsed": true
   },
   "outputs": [],
   "source": [
    "def getChildren(p):\n",
    "    for key in parentChildDict:\n",
    "        if p == key:\n",
    "            return parentChildDict[p]\n",
    "    return []\n",
    "\n",
    "#get parent of a given child\n",
    "\n",
    "def getParent(c):\n",
    "    for key in parentChildDict.keys():\n",
    "        if c in parentChildDict[key]:\n",
    "            hasParentList.append(c)\n",
    "            return key\n",
    "    return \"NA\"\n",
    "\n",
    "def alreadyHasParent(c):\n",
    "    if c in hasParentList:\n",
    "        return True\n",
    "    else:\n",
    "        return False"
   ]
  },
  {
   "cell_type": "code",
   "execution_count": 9,
   "metadata": {
    "collapsed": false
   },
   "outputs": [],
   "source": [
    "#find parent and child from direct_paths\n",
    "#and putting them in dictionay\n",
    "\n",
    "\n",
    "\n",
    "def setParentChild(dp):\n",
    "    print \"#####################\",dp\n",
    "    y0 = dp[0][1]\n",
    "    y1 = dp[1][1]\n",
    "\n",
    "    p1 = getParent(dp[0])\n",
    "    p2 = getParent(dp[1])\n",
    "    #print \"--------\",p1,p2\n",
    "    \n",
    "    \n",
    "    if( p1 != \"NA\" and p2 != \"NA\" and p1 == p2):\n",
    "        print y0, y1, \"inside p1==p2\"\n",
    "        return False\n",
    "    \n",
    "    else :\n",
    "    #parent = y1 lava\n",
    "        #if y0>=y1 and not (p1 != \"NA\" and p2 != \"NA\"):\n",
    "        if y0>=y1:\n",
    "            print y1, y0, \"in else loop\"\n",
    "            #print \"PARENT     |     CHILD\"\n",
    "            #print dp[1],dp[0]\n",
    "            if dp[1] in parentChildDict.keys():\n",
    "                parentChildDict[dp[1]].append(dp[0])\n",
    "\n",
    "            else :    \n",
    "                parentChildDict[dp[1]] =[dp[0]]\n",
    "            return True\n",
    "\n",
    "        #elif y1>y0 and not (p1 != \"NA\" and p2 != \"NA\"):\n",
    "        elif y1>y0:\n",
    "            print y0, y1, \"in else loop\"\n",
    "            #print \"PARENT     |     CHILD\"\n",
    "            #print dp[0],dp[1]\n",
    "            if dp[0] in parentChildDict.keys():\n",
    "                parentChildDict[dp[0]].append(dp[1])\n",
    "\n",
    "            else:    \n",
    "                parentChildDict[dp[0]] =[dp[1]]\n",
    "            return True\n",
    "    return False"
   ]
  },
  {
   "cell_type": "code",
   "execution_count": 10,
   "metadata": {
    "collapsed": false,
    "scrolled": true
   },
   "outputs": [],
   "source": [
    "# getting all the combinations\n",
    "\n",
    "# arab.jpg\n",
    "uniq = [(375, 553, 1035, 1079), (376, 556, 974, 1016), (377, 556, 896, 954), (376, 556, 839, 878), (875, 1011, 813, 911), (82, 270, 805, 861), (614, 723, 788, 874), (375, 554, 762, 823), (875, 1011, 713, 799), (1061, 1192, 702, 753), (613, 723, 688, 774), (375, 554, 688, 748), (622, 985, 101, 169), (1244, 1373, 688, 760), (312, 512, 600, 675), (74, 274, 700, 775), (75, 274, 901, 974), (799, 1055, 600, 674), (575, 749, 601, 674), (636, 931, 276, 337)]\n",
    "dict_centre_vert = {(176, 833): [(82, 270, 805, 861)], (668, 831): [(614, 723, 788, 874)], (927, 637): [(799, 1055, 600, 674)], (466, 995): [(376, 556, 974, 1016)], (662, 637): [(575, 749, 601, 674)], (943, 756): [(875, 1011, 713, 799)], (943, 862): [(875, 1011, 813, 911)], (174, 737): [(74, 274, 700, 775)], (466, 858): [(376, 556, 839, 878)], (464, 1057): [(375, 553, 1035, 1079)], (412, 637): [(312, 512, 600, 675)], (466, 925): [(377, 556, 896, 954)], (1308, 724): [(1244, 1373, 688, 760)], (1126, 727): [(1061, 1192, 702, 753)], (668, 731): [(613, 723, 688, 774)], (803, 135): [(622, 985, 101, 169)], (464, 718): [(375, 554, 688, 748)], (174, 937): [(75, 274, 901, 974)], (464, 792): [(375, 554, 762, 823)], (783, 306): [(636, 931, 276, 337)]}\n",
    "centres = [(464, 1057), (466, 995), (466, 925), (466, 858), (943, 862), (176, 833), (668, 831), (464, 792), (943, 756), (1126, 727), (668, 731), (464, 718), (803, 135), (1308, 724), (412, 637), (174, 737), (174, 937), (927, 637), (662, 637), (783, 306)]\n",
    "\n",
    "# complex.jpg\n",
    "# uniq = [(714, 823, 795, 833), (506, 615, 716, 754), (714, 823, 713, 751), (29, 138, 675, 713), (506, 615, 634, 672), (714, 823, 632, 670), (29, 138, 614, 652), (29, 138, 553, 591), (714, 823, 552, 590), (506, 615, 552, 590), (316, 426, 552, 590), (1091, 1201, 503, 541), (880, 990, 503, 541), (28, 138, 491, 529), (316, 426, 471, 509), (1091, 1201, 422, 460), (880, 990, 422, 460), (316, 426, 391, 429), (880, 990, 260, 298), (256, 366, 260, 298), (411, 584, 139, 167), (411, 584, 28, 56), (505, 615, 798, 836), (316, 426, 634, 672), (6, 116, 260, 298), (505, 615, 470, 510), (742, 852, 390, 429), (591, 701, 390, 429), (191, 302, 390, 429), (66, 177, 390, 430), (1091, 1201, 340, 379), (880, 990, 340, 379), (755, 866, 259, 299), (629, 739, 259, 299), (504, 615, 259, 299), (379, 490, 259, 299), (131, 242, 259, 298), (1091, 1202, 573, 613)]\n",
    "# dict_centre_vert = {(434, 279): [(379, 490, 259, 299)], (1146, 593): [(1091, 1202, 573, 613)], (186, 278): [(131, 242, 259, 298)], (311, 279): [(256, 366, 260, 298)], (121, 410): [(66, 177, 390, 430)], (684, 279): [(629, 739, 259, 299)], (560, 653): [(506, 615, 634, 672)], (1146, 441): [(1091, 1201, 422, 460)], (83, 572): [(29, 138, 553, 591)], (560, 490): [(505, 615, 470, 510)], (371, 571): [(316, 426, 552, 590)], (560, 571): [(506, 615, 552, 590)], (61, 279): [(6, 116, 260, 298)], (83, 510): [(28, 138, 491, 529)], (371, 653): [(316, 426, 634, 672)], (371, 490): [(316, 426, 471, 509)], (935, 359): [(880, 990, 340, 379)], (246, 409): [(191, 302, 390, 429)], (559, 279): [(504, 615, 259, 299)], (560, 735): [(506, 615, 716, 754)], (497, 42): [(411, 584, 28, 56)], (935, 441): [(880, 990, 422, 460)], (810, 279): [(755, 866, 259, 299)], (83, 633): [(29, 138, 614, 652)], (935, 522): [(880, 990, 503, 541)], (1146, 522): [(1091, 1201, 503, 541)], (797, 409): [(742, 852, 390, 429)], (935, 279): [(880, 990, 260, 298)], (768, 732): [(714, 823, 713, 751)], (560, 817): [(505, 615, 798, 836)], (768, 571): [(714, 823, 552, 590)], (768, 651): [(714, 823, 632, 670)], (768, 814): [(714, 823, 795, 833)], (371, 410): [(316, 426, 391, 429)], (497, 153): [(411, 584, 139, 167)], (83, 694): [(29, 138, 675, 713)], (1146, 359): [(1091, 1201, 340, 379)], (646, 409): [(591, 701, 390, 429)]}\n",
    "# centres = [(768, 814), (560, 735), (768, 732), (83, 694), (560, 653), (768, 651), (83, 633), (83, 572), (768, 571), (560, 571), (371, 571), (1146, 522), (935, 522), (83, 510), (371, 490), (1146, 441), (935, 441), (371, 410), (935, 279), (311, 279), (497, 153), (497, 42), (560, 817), (371, 653), (61, 279), (560, 490), (797, 409), (646, 409), (246, 409), (121, 410), (1146, 359), (935, 359), (810, 279), (684, 279), (559, 279), (434, 279), (186, 278), (1146, 593)]\n",
    "\n",
    "\n",
    "\n",
    "# hsbc.jpg\n",
    "# uniq = [(132, 247, 210, 237), (150, 228, 148, 174), (164, 313, 14, 43), (254, 385, 210, 237), (14, 145, 148, 174), (166, 311, 69, 93), (235, 364, 149, 173), (370, 471, 149, 173)]\n",
    "# dict_centre_vert = {(238, 28): [(164, 313, 14, 43)], (238, 81): [(166, 311, 69, 93)], (189, 223): [(132, 247, 210, 237)], (79, 161): [(14, 145, 148, 174)], (189, 161): [(150, 228, 148, 174)], (299, 161): [(235, 364, 149, 173)], (420, 161): [(370, 471, 149, 173)], (319, 223): [(254, 385, 210, 237)]}\n",
    "# centres = [(189, 223), (189, 161), (238, 28), (319, 223), (79, 161), (238, 81), (299, 161), (420, 161)]\n",
    "\n",
    "\n",
    "\n",
    "vertForCropping = uniq \n",
    "image_path = \"input_images/arab.jpg\"\n",
    "#------------------------\n",
    "def find_paths(vertForCropping,dict_centre_vert,centres,image_path):\n",
    "    a = iter(centres)\n",
    "    import itertools\n",
    "    combinations=[]\n",
    "    combinations.extend(itertools.combinations(a, 2))\n",
    "\n",
    "    # print \"-------------------Combinations--------------------\"\n",
    "    # print combinations\n",
    "\n",
    "    sorted_comb = sortCombinations(combinations)\n",
    "\n",
    "    # print \"---------------Sorted Combinations-----------------\"\n",
    "    # print sorted_comb\n",
    "\n",
    "\n",
    "    #finding if path is possible b/w all the combinations of rectnagles\n",
    "\n",
    "    num_of_direct_paths = 0\n",
    "\n",
    "    print ('\\n')\n",
    "    print \".... Finding relationships between entities ...... \"\n",
    "    \n",
    "    for c in sorted_comb:\n",
    "\n",
    "        if (ifPathExists( vertForCropping, c[0], c[1], dict_centre_vert, image_path)):\n",
    "            num_of_direct_paths = num_of_direct_paths + 1\n",
    "\n",
    "    print ('\\n')\n",
    "    print \"Total number of connections = \", num_of_direct_paths\n",
    "    \n",
    "    drawHierarchyLines(image_path)\n",
    "    \n",
    "#     print ('\\n')\n",
    "#     print \"Number of levels excluding client = \", noOfLvls(clientCentre, centres)-1\n",
    "    \n",
    "#     print \"DCP-\",dict_centres_path\n",
    "    \n",
    "    return parentChildDict\n"
   ]
  },
  {
   "cell_type": "code",
   "execution_count": 11,
   "metadata": {
    "collapsed": false
   },
   "outputs": [],
   "source": [
    "def drawHierarchyLines(image_path):\n",
    "    im = cv2.imread(image_path)\n",
    "    x = 7\n",
    "    for k in parentChildDict.keys():\n",
    "\n",
    "        children = getChildren(k)\n",
    "        for child in children:\n",
    "            cv2.line(im,(k[0],k[1]),(child[0],child[1]),((271-x)%255,(5+x)%255,(127+x)%255),10)\n",
    "        x = x + 13\n",
    "    cv2.imwrite(\"output.png\",im)"
   ]
  },
  {
   "cell_type": "code",
   "execution_count": 12,
   "metadata": {
    "collapsed": false
   },
   "outputs": [],
   "source": [
    "def noOfLvls(centreOfClient,centres):\n",
    "    max_lvl = 0\n",
    "    \n",
    "    for centre in centres:\n",
    "        lvl = 1\n",
    "        curr = centre\n",
    "        while (getParent(curr) != \"NA\"): \n",
    "            lvl = lvl + 1\n",
    "            curr = getParent(curr) \n",
    "        if lvl > max_lvl:\n",
    "            max_lvl = lvl\n",
    " \n",
    "    return max_lvl\n"
   ]
  },
  {
   "cell_type": "code",
   "execution_count": 13,
   "metadata": {
    "collapsed": true
   },
   "outputs": [],
   "source": [
    "def remove_duplicates(l):\n",
    "    return list(set(l))"
   ]
  },
  {
   "cell_type": "code",
   "execution_count": 14,
   "metadata": {
    "collapsed": false,
    "scrolled": false
   },
   "outputs": [
    {
     "name": "stdout",
     "output_type": "stream",
     "text": [
      "\n",
      "\n",
      ".... Finding relationships between entities ...... \n",
      "(803, 135)  <---->  (783, 306)\n",
      "(783, 306)  <---->  (176, 833)\n",
      "(783, 306)  <---->  (1126, 727)\n",
      "(783, 306)  <---->  (1308, 724)\n",
      "(783, 306)  <---->  (412, 637)\n",
      "(783, 306)  <---->  (174, 737)\n",
      "(783, 306)  <---->  (174, 937)\n",
      "(783, 306)  <---->  (927, 637)\n",
      "(783, 306)  <---->  (662, 637)\n",
      "(412, 637)  <---->  (464, 1057)\n",
      "(412, 637)  <---->  (466, 995)\n",
      "(412, 637)  <---->  (466, 925)\n",
      "(412, 637)  <---->  (466, 858)\n",
      "(927, 637)  <---->  (943, 862)\n",
      "(412, 637)  <---->  (176, 833)\n",
      "(927, 637)  <---->  (176, 833)\n",
      "(662, 637)  <---->  (176, 833)\n",
      "(662, 637)  <---->  (668, 831)\n",
      "(412, 637)  <---->  (464, 792)\n",
      "(927, 637)  <---->  (943, 756)\n",
      "(412, 637)  <---->  (1126, 727)\n",
      "(927, 637)  <---->  (1126, 727)\n",
      "(662, 637)  <---->  (1126, 727)\n",
      "(662, 637)  <---->  (668, 731)\n",
      "(412, 637)  <---->  (464, 718)\n",
      "(412, 637)  <---->  (1308, 724)\n",
      "(927, 637)  <---->  (1308, 724)\n",
      "(662, 637)  <---->  (1308, 724)\n",
      "(412, 637)  <---->  (174, 737)\n",
      "(412, 637)  <---->  (174, 937)\n",
      "(412, 637)  <---->  (927, 637)\n",
      "(412, 637)  <---->  (662, 637)\n",
      "(927, 637)  <---->  (174, 737)\n",
      "(662, 637)  <---->  (174, 737)\n",
      "(927, 637)  <---->  (174, 937)\n",
      "(662, 637)  <---->  (174, 937)\n",
      "(927, 637)  <---->  (662, 637)\n",
      "(464, 718)  <---->  (464, 1057)\n",
      "(464, 718)  <---->  (466, 995)\n",
      "(464, 718)  <---->  (466, 925)\n",
      "(464, 718)  <---->  (466, 858)\n",
      "(464, 718)  <---->  (464, 792)\n",
      "(1308, 724)  <---->  (176, 833)\n",
      "(1308, 724)  <---->  (1126, 727)\n",
      "(1308, 724)  <---->  (174, 737)\n",
      "(1308, 724)  <---->  (174, 937)\n",
      "(1126, 727)  <---->  (176, 833)\n",
      "(1126, 727)  <---->  (174, 737)\n",
      "(1126, 727)  <---->  (174, 937)\n",
      "(668, 731)  <---->  (668, 831)\n",
      "(174, 737)  <---->  (176, 833)\n",
      "(174, 737)  <---->  (174, 937)\n",
      "(943, 756)  <---->  (943, 862)\n",
      "(464, 792)  <---->  (464, 1057)\n",
      "(464, 792)  <---->  (466, 995)\n",
      "(464, 792)  <---->  (466, 925)\n",
      "(464, 792)  <---->  (466, 858)\n",
      "(176, 833)  <---->  (174, 937)\n",
      "(466, 858)  <---->  (464, 1057)\n",
      "(466, 858)  <---->  (466, 995)\n",
      "(466, 858)  <---->  (466, 925)\n",
      "(466, 925)  <---->  (464, 1057)\n",
      "(466, 925)  <---->  (466, 995)\n",
      "(466, 995)  <---->  (464, 1057)\n",
      "\n",
      "\n",
      "Total number of connections =  64\n"
     ]
    },
    {
     "data": {
      "text/plain": [
       "{}"
      ]
     },
     "execution_count": 14,
     "metadata": {},
     "output_type": "execute_result"
    }
   ],
   "source": [
    "find_paths(vertForCropping,dict_centre_vert,centres,image_path)"
   ]
  },
  {
   "cell_type": "code",
   "execution_count": null,
   "metadata": {
    "collapsed": false
   },
   "outputs": [
    {
     "name": "stdout",
     "output_type": "stream",
     "text": [
      "[[(662, 637), (927, 637)], [(783, 306), (1126, 727)], [(464, 718), (464, 1057)], [(783, 306), (662, 637)], [(927, 637), (943, 862)], [(662, 637), (176, 833)], [(466, 925), (466, 995)], [(783, 306), (1308, 724)], [(174, 737), (176, 833)], [(783, 306), (174, 737)], [(466, 995), (464, 1057)], [(783, 306), (412, 637)], [(466, 858), (466, 925)], [(412, 637), (176, 833)], [(1126, 727), (176, 833)], [(783, 306), (927, 637)], [(464, 792), (464, 1057)], [(662, 637), (668, 831)], [(662, 637), (668, 731)], [(464, 718), (466, 925)], [(662, 637), (412, 637)], [(943, 756), (943, 862)], [(174, 737), (174, 937)], [(662, 637), (1308, 724)], [(412, 637), (1308, 724)], [(927, 637), (1308, 724)], [(464, 718), (466, 858)], [(1308, 724), (1126, 727)], [(412, 637), (174, 937)], [(412, 637), (174, 737)], [(1126, 727), (174, 937)], [(1308, 724), (174, 737)], [(464, 792), (466, 858)], [(1308, 724), (174, 937)], [(783, 306), (174, 937)], [(464, 792), (466, 925)], [(927, 637), (943, 756)], [(466, 925), (464, 1057)], [(464, 718), (464, 792)], [(464, 792), (466, 995)], [(176, 833), (174, 937)], [(927, 637), (176, 833)], [(412, 637), (464, 792)], [(412, 637), (464, 1057)], [(803, 135), (783, 306)], [(412, 637), (466, 858)], [(412, 637), (466, 995)], [(412, 637), (464, 718)], [(662, 637), (1126, 727)], [(668, 731), (668, 831)], [(464, 718), (466, 995)], [(662, 637), (174, 937)], [(927, 637), (1126, 727)], [(783, 306), (176, 833)], [(412, 637), (1126, 727)], [(927, 637), (412, 637)], [(1308, 724), (176, 833)], [(927, 637), (174, 737)], [(662, 637), (174, 737)], [(412, 637), (466, 925)], [(466, 858), (466, 995)], [(1126, 727), (174, 737)], [(927, 637), (174, 937)], [(466, 858), (464, 1057)]]\n"
     ]
    }
   ],
   "source": [
    "i_sort = []\n",
    "tf_sort = []\n",
    "for k in dict_centres_path.keys():\n",
    "    i_sort.append(sorted(k, key=lambda tup: tup[1]))\n",
    "\n",
    "print i_sort\n",
    "f_sort = sorted(i_sort, key=lambda tup: tup[0][1])\n",
    "\n",
    "for f in f_sort:\n",
    "    tf_sort.append(tuple(f))\n",
    "   "
   ]
  },
  {
   "cell_type": "code",
   "execution_count": null,
   "metadata": {
    "collapsed": false,
    "scrolled": true
   },
   "outputs": [
    {
     "name": "stdout",
     "output_type": "stream",
     "text": [
      "((662, 637), (412, 637)) removed because of  (662, 637) (783, 306)  and  (783, 306) (412, 637)\n",
      "((412, 637), (1308, 724)) removed because of  (412, 637) (662, 637)  and  (662, 637) (1308, 724)\n",
      "((412, 637), (1308, 724)) removed because of  (412, 637) (783, 306)  and  (783, 306) (1308, 724)\n",
      "((927, 637), (1308, 724)) removed because of  (927, 637) (662, 637)  and  (662, 637) (1308, 724)\n",
      "((927, 637), (1308, 724)) removed because of  (927, 637) (783, 306)  and  (783, 306) (1308, 724)\n",
      "((412, 637), (174, 937)) removed because of  (412, 637) (783, 306)  and  (783, 306) (174, 937)\n"
     ]
    }
   ],
   "source": [
    "tf_sort2 = []\n",
    "for key in tf_sort:\n",
    "    dict_big_path_x = dict()\n",
    "    dict_big_path_y = dict()\n",
    "    x1 = key[0]\n",
    "    y1 = key[1]\n",
    "    \n",
    "    tf_sort2.append(key)\n",
    "    \n",
    "    for key2 in tf_sort2:\n",
    "        \n",
    "        x2 = key2[0] \n",
    "        y2 = key2[1]\n",
    "        \n",
    "        if x1 == x2 and y1 != y2 :\n",
    "            dict_big_path_x[y2]=dict_centres_path[key2]\n",
    "            \n",
    "        elif x1 == y2 and y1 != x2:\n",
    "            dict_big_path_x[x2]=dict_centres_path[key2]\n",
    "            \n",
    "        elif x1 != x2 and y1 == y2:\n",
    "            dict_big_path_y[x2]=dict_centres_path[key2]\n",
    "            \n",
    "        elif x1 != y2 and y1 == x2:\n",
    "            dict_big_path_y[y2]=dict_centres_path[key2]\n",
    "            \n",
    "            \n",
    "#     print \"@\",key,\"x\\n  --------------------\"\n",
    "#     for d in dict_big_path_x:\n",
    "#         print d\n",
    "    \n",
    "#     print \"@\",key,\"y\\n \"\n",
    "#     for d in dict_big_path_y:\n",
    "#         print d\n",
    "#     print \" --------------------\"       \n",
    "    \n",
    "    \n",
    "    x_keys = dict_big_path_x.keys()\n",
    "    y_keys = dict_big_path_y.keys()\n",
    "    \n",
    "    for x_key in x_keys:\n",
    "        for y_key in y_keys:\n",
    "            if x_key == y_key:\n",
    "                path1 = dict_big_path_x[x_key]\n",
    "                path2 = dict_big_path_y[y_key]\n",
    "                \n",
    "                \n",
    "                #as the hop distance we are taking as 4 it might be possible we might be missing some value of x and y\n",
    "                for i in range (0, len(path1)):\n",
    "                    x = path1[i][0]\n",
    "                    y = path1[i][1]\n",
    "                    \n",
    "                    path1.append((x+1,y))\n",
    "                    path1.append((x,y+1))\n",
    "                    path1.append((x-1,y))\n",
    "                    path1.append((x,y-1))\n",
    "                    \n",
    "                    path1.append((x+2,y))\n",
    "                    path1.append((x,y+2))\n",
    "                    path1.append((x-2,y))\n",
    "                    path1.append((x,y-2))\n",
    "                    \n",
    "                    path1.append((x+3,y))\n",
    "                    path1.append((x,y+3))\n",
    "                    path1.append((x-3,y))\n",
    "                    path1.append((x,y-3))\n",
    "                    \n",
    "                for i in range (0, len(path2)):\n",
    "                    x = path2[i][0]\n",
    "                    y = path2[i][1]\n",
    "                    path2.append((x+1,y))\n",
    "                    path2.append((x,y+1))\n",
    "                    path2.append((x-1,y))\n",
    "                    path2.append((x,y-1))\n",
    "                    \n",
    "                    path2.append((x+2,y))\n",
    "                    path2.append((x,y+2))\n",
    "                    path2.append((x-2,y))\n",
    "                    path2.append((x,y-2))\n",
    "                    \n",
    "                    path2.append((x+3,y))\n",
    "                    path2.append((x,y+3))\n",
    "                    path2.append((x-3,y))\n",
    "                    path2.append((x,y-3))\n",
    "                \n",
    "                \n",
    "                spath1 = set(path1)\n",
    "                spath2 = set(path2)\n",
    "                \n",
    "                from itertools import chain\n",
    "                union = set(chain(spath1,spath2))\n",
    "\n",
    "                small_path = set(dict_centres_path[key])\n",
    "                if small_path.issubset(union):\n",
    "                    print key,\"removed because of \",key[0],x_key,\" and \",y_key,key[1]\n",
    "                    to_be_removed_paths.append(key)"
   ]
  },
  {
   "cell_type": "code",
   "execution_count": null,
   "metadata": {
    "collapsed": false
   },
   "outputs": [],
   "source": [
    "print \"No of Paths before removing dublication \",len(to_be_removed_paths)"
   ]
  },
  {
   "cell_type": "code",
   "execution_count": null,
   "metadata": {
    "collapsed": false
   },
   "outputs": [],
   "source": [
    "uniq_to_removed_paths = remove_duplicates(to_be_removed_paths)\n",
    "print \"No of Paths after removing dublication  \",len(uniq_to_removed_paths)"
   ]
  },
  {
   "cell_type": "code",
   "execution_count": null,
   "metadata": {
    "collapsed": false
   },
   "outputs": [],
   "source": [
    "for p in uniq_to_removed_paths:\n",
    "    print p"
   ]
  },
  {
   "cell_type": "code",
   "execution_count": null,
   "metadata": {
    "collapsed": true
   },
   "outputs": [],
   "source": []
  }
 ],
 "metadata": {
  "kernelspec": {
   "display_name": "Python 2",
   "language": "python",
   "name": "python2"
  },
  "language_info": {
   "codemirror_mode": {
    "name": "ipython",
    "version": 2
   },
   "file_extension": ".py",
   "mimetype": "text/x-python",
   "name": "python",
   "nbconvert_exporter": "python",
   "pygments_lexer": "ipython2",
   "version": "2.7.13"
  }
 },
 "nbformat": 4,
 "nbformat_minor": 0
}
