{
 "cells": [
  {
   "cell_type": "code",
   "execution_count": 1,
   "metadata": {
    "collapsed": true
   },
   "outputs": [],
   "source": [
    "import numpy as np\n",
    "import cv2\n",
    "from matplotlib import pyplot as plt\n",
    "import sys"
   ]
  },
  {
   "cell_type": "code",
   "execution_count": 2,
   "metadata": {
    "collapsed": false
   },
   "outputs": [],
   "source": [
    "def findSimilarityBW(doc,sign):\n",
    "\n",
    "    \n",
    "    MIN_MATCH_COUNT = 10\n",
    "    \n",
    "    img1 = cv2.imread(doc,0)          # document\n",
    "    img2 = cv2.imread(sign,0)      # signature template to match\n",
    "\n",
    "    # Initiate SIFT detector\n",
    "    # sift = cv2.SIFT()\n",
    "    sift = cv2.xfeatures2d.SIFT_create()\n",
    "\n",
    "    # find the keypoints and descriptors with SIFT\n",
    "    kp1, des1 = sift.detectAndCompute(img1,None)\n",
    "    kp2, des2 = sift.detectAndCompute(img2,None)\n",
    "\n",
    "    FLANN_INDEX_KDTREE = 0\n",
    "    index_params = dict(algorithm = FLANN_INDEX_KDTREE, trees = 5)\n",
    "    search_params = dict(checks = 50)\n",
    "\n",
    "    flann = cv2.FlannBasedMatcher(index_params, search_params)\n",
    "\n",
    "    matches = flann.knnMatch(des1,des2,k=2)\n",
    "\n",
    "    # store all the good matches as per Lowe's ratio test.\n",
    "    good = []\n",
    "    for m,n in matches:\n",
    "        if m.distance < 0.7*n.distance:\n",
    "            good.append(m)\n",
    "\n",
    "\n",
    "\n",
    "    if len(good)>MIN_MATCH_COUNT:\n",
    "        src_pts = np.float32([ kp1[m.queryIdx].pt for m in good ]).reshape(-1,1,2)\n",
    "        dst_pts = np.float32([ kp2[m.trainIdx].pt for m in good ]).reshape(-1,1,2)\n",
    "\n",
    "        M, mask = cv2.findHomography(src_pts, dst_pts, cv2.RANSAC,5.0)\n",
    "        matchesMask = mask.ravel().tolist()\n",
    "\n",
    "        h,w = img1.shape\n",
    "        pts = np.float32([ [0,0],[0,h-1],[w-1,h-1],[w-1,0] ]).reshape(-1,1,2)\n",
    "        dst = cv2.perspectiveTransform(pts,M)\n",
    "\n",
    "        img2 = cv2.polylines(img2,[np.int32(dst)],True,255,3, cv2.LINE_AA)\n",
    "\n",
    "    else:\n",
    "        #print \"Not enough matches are found - %d/%d\" % (len(good),MIN_MATCH_COUNT)\n",
    "        matchesMask = None\n",
    "\n",
    "    draw_params = dict(matchColor = (4,40,60), # draw matches \n",
    "                       singlePointColor = None,\n",
    "                       matchesMask = matchesMask, # draw only inliers\n",
    "                       flags = 2)\n",
    "\n",
    "    img3 = cv2.drawMatches(img1,kp1,img2,kp2,good,None,**draw_params)\n",
    "\n",
    "    #plt.imshow(img3, 'gray'),plt.show()\n",
    "    \n",
    "    return len(good),img3"
   ]
  },
  {
   "cell_type": "code",
   "execution_count": 9,
   "metadata": {
    "collapsed": true
   },
   "outputs": [],
   "source": [
    "doc = \"docs/test.jpg\"\n",
    "signsDir = \"signs\"\n",
    "\n",
    "doc =  sys.argv[1]\n",
    "signDir = sys.argv[2]"
   ]
  },
  {
   "cell_type": "code",
   "execution_count": 10,
   "metadata": {
    "collapsed": false
   },
   "outputs": [],
   "source": [
    "signsList = []\n",
    "import os\n",
    "for file in os.listdir(signsDir):\n",
    "    if file.endswith(\".jpg\"):\n",
    "        signsList.append(os.path.join(file))"
   ]
  },
  {
   "cell_type": "code",
   "execution_count": 11,
   "metadata": {
    "collapsed": false
   },
   "outputs": [
    {
     "name": "stdout",
     "output_type": "stream",
     "text": [
      "9 % - Signature match for Document:  docs/test.jpg  and Signature:  Calvin-Coolidge.jpg\n",
      "85 % - Signature match for Document:  docs/test.jpg  and Signature:  johnC.jpg\n",
      "12 % - Signature match for Document:  docs/test.jpg  and Signature:  johnF.jpg\n",
      "18 % - Signature match for Document:  docs/test.jpg  and Signature:  template2.jpg\n",
      "14 % - Signature match for Document:  docs/test.jpg  and Signature:  template3.jpg\n",
      "-----------------------------------------------------------------------\n",
      "\n",
      "\n",
      "Signature found in the Document  docs/test.jpg  and it matches with  signs/johnC.jpg\n"
     ]
    },
    {
     "data": {
      "text/plain": [
       "(<matplotlib.image.AxesImage at 0x758e940>, None)"
      ]
     },
     "execution_count": 11,
     "metadata": {},
     "output_type": "execute_result"
    }
   ],
   "source": [
    "min = 0\n",
    "bestMatchImg = \"\"\n",
    "for s in signsList:\n",
    "    sPath= signsDir+\"/\"+s\n",
    "    per,img= findSimilarityBW(doc,sPath)\n",
    "    if (per>min):\n",
    "        min = per\n",
    "        bestMatchImg = sPath\n",
    "        \n",
    "    print per,\"% - Signature match for Document: \",doc,\" and Signature: \",s\n",
    "\n",
    "print \"-----------------------------------------------------------------------\\n\\n\"\n",
    "if min>54:\n",
    "    print \"Signature found in the Document \",doc,\" and it matches with \",bestMatchImg \n",
    "    \n",
    "per,img= findSimilarityBW(doc,bestMatchImg)\n",
    "plt.imshow(img, 'gray'),plt.show()"
   ]
  },
  {
   "cell_type": "code",
   "execution_count": null,
   "metadata": {
    "collapsed": true
   },
   "outputs": [],
   "source": []
  }
 ],
 "metadata": {
  "kernelspec": {
   "display_name": "Python 2",
   "language": "python",
   "name": "python2"
  },
  "language_info": {
   "codemirror_mode": {
    "name": "ipython",
    "version": 2
   },
   "file_extension": ".py",
   "mimetype": "text/x-python",
   "name": "python",
   "nbconvert_exporter": "python",
   "pygments_lexer": "ipython2",
   "version": "2.7.13"
  }
 },
 "nbformat": 4,
 "nbformat_minor": 0
}
