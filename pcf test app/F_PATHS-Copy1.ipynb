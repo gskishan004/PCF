{
 "cells": [
  {
   "cell_type": "code",
   "execution_count": 1,
   "metadata": {
    "collapsed": true
   },
   "outputs": [],
   "source": [
    "import numpy as np\n",
    "import cv2\n",
    "import PIL\n",
    "from scipy import misc\n",
    "from PIL import Image\n",
    "from pytesseract import image_to_string \n",
    "import pytesseract\n",
    "import argparse\n",
    "from Queue import Queue"
   ]
  },
  {
   "cell_type": "code",
   "execution_count": 2,
   "metadata": {
    "collapsed": true
   },
   "outputs": [],
   "source": [
    "parentChildDict=dict()\n",
    "direct_paths=[]\n",
    "hasParentList=[]\n",
    "image_path = \"\"\n",
    "dict_centre_vert=dict()\n",
    "dict_centres_path=()"
   ]
  },
  {
   "cell_type": "code",
   "execution_count": 3,
   "metadata": {
    "collapsed": true
   },
   "outputs": [],
   "source": [
    "def negImg(vertForCropping, image_path):#Converting the img to negative and removing text\n",
    "    image_source = image_path\n",
    "    gray_img = cv2.imread(image_source)\n",
    "    \n",
    "    rect,thresh = cv2.threshold(gray_img,127,255,0)\n",
    "    newImg = cv2.bitwise_not(thresh)\n",
    "   \n",
    "    for vert in vertForCropping:\n",
    "        #print \"whitened rect vert \", vert\n",
    "        cv2.rectangle(newImg,(vert[0],vert[2]),(vert[1],vert[3]),(255,255,255),-1)\n",
    "\n",
    "   \n",
    "\n",
    "    cv2.imwrite(\"123neg.png\",newImg)\n",
    "    #cv2.imshow(\"sdd\", newImg)\n",
    "    return newImg"
   ]
  },
  {
   "cell_type": "code",
   "execution_count": 4,
   "metadata": {
    "collapsed": true
   },
   "outputs": [],
   "source": [
    "# making all the other rectangles black except the start and end\n",
    "\n",
    "def iswhite(value):\n",
    "    #if value == (255,255,255):\n",
    "    #   return True\n",
    "    if value != (0,0,0) and value != (127,127,127):\n",
    "        return True\n",
    "  \n",
    "    return False\n",
    "\n",
    "def getNewVertForCropping(vertForCropping, rect1_centre,  rect2_centre, dict_centre_vert, image_path):\n",
    "    newVertForCropping=[]\n",
    "    \n",
    "    newImg = negImg(vertForCropping, image_path)\n",
    "\n",
    "    \n",
    "    \n",
    "    rect1_x1,  rect1_x2, rect1_y1, rect1_y2 = dict_centre_vert[rect1_centre][0]\n",
    "    \n",
    "    rect2_x1,  rect2_x2, rect2_y1,rect2_y2 = dict_centre_vert[rect2_centre][0]\n",
    "\n",
    "    #rect1_x1, rect1_y1, rect1_x2, rect1_y2 = exclude_p1[0][0], exclude_p1[0][1], exclude_p1[1][0], exclude_p1[1][1]\n",
    "    #rect2_x1, rect2_y1, rect2_x2, rect2_y2 = exclude_p2[0][0], exclude_p2[0][1], exclude_p2[1][0], exclude_p2[1][1]\n",
    "  \n",
    "    \n",
    "    for vert in vertForCropping:\n",
    "\n",
    "        #this box which is being considered leave it white\n",
    "        if vert[0] == rect1_x1 and vert[1] ==rect1_x2 and vert[2] ==rect1_y1 and vert[3] ==rect1_y2:\n",
    "            pass\n",
    "        elif vert[0] == rect2_x1 and vert[1] ==rect2_x2 and vert[2] ==rect2_y1 and vert[3] ==rect2_y2:\n",
    "            pass\n",
    "        else:\n",
    "            #make all other boxes black\n",
    "            cv2.rectangle(newImg,(vert[0]-6,vert[2]-6),(vert[1]+6,vert[3]+6),(0,0,0),-1)\n",
    "            cv2.imwrite('blackRectNewNeg.png', newImg)\n",
    "            #print \"image written\"\n",
    "            \n",
    "    \n",
    "    return True"
   ]
  },
  {
   "cell_type": "code",
   "execution_count": 5,
   "metadata": {
    "collapsed": true
   },
   "outputs": [],
   "source": [
    "#code for finding the path b/w start and the end\n",
    "\n",
    "\n",
    "def getadjacent(n):\n",
    "    x,y = n\n",
    "    return [(x-1,y),(x,y-1),(x+1,y),(x,y+1),(x-4,y),(x,y-4),(x+4,y),(x,y+4)]\n",
    "\n",
    "def BFS(start, end, pixels):\n",
    "\n",
    "    queue = Queue()\n",
    "    queue.put([start]) # Wrapping the start tuple in a list\n",
    "\n",
    "    while not queue.empty():\n",
    "        \n",
    "        path = queue.get() \n",
    "        #print path\n",
    "        pixel = path[-1]\n",
    "\n",
    "        if pixel == end:\n",
    "            return path\n",
    "\n",
    "        for adjacent in getadjacent(pixel):\n",
    "            x,y = adjacent\n",
    "            \n",
    "            if iswhite(pixels[x,y]):\n",
    "                pixels[x,y] = (127,127,127) # see note\n",
    "                new_path = list(path)\n",
    "                new_path.append(adjacent)\n",
    "                queue.put(new_path)\n",
    "\n",
    "    #print \"Queue has been exhausted. No answer was found.\"\n",
    "\n",
    "\n",
    "\n",
    "    # invoke: python mazesolver.py <mazefile> <outputfile>[.jpg|.png|etc.]\n"
   ]
  },
  {
   "cell_type": "code",
   "execution_count": 6,
   "metadata": {
    "collapsed": false
   },
   "outputs": [],
   "source": [
    "\n",
    "\n",
    "def ifPathExists(vertForCropping, rect1_centre, rect2_centre, dict_centre_vert, image_path, dict_centre_text,f ):\n",
    "    getNewVertForCropping(vertForCropping, rect1_centre, rect2_centre, dict_centre_vert, image_path)\n",
    "    base_img = Image.open(\"blackRectNewNeg.png\")\n",
    "    base_pixels = base_img.load()\n",
    "\n",
    "    path = BFS(rect1_centre, rect2_centre, base_pixels)\n",
    "    \n",
    "    path_img = Image.open(\"blackRectNewNeg.png\")\n",
    "    path_pixels = path_img.load()\n",
    "    \n",
    "    \n",
    "    try:\n",
    "        for position in path:\n",
    "            x,y = position\n",
    "            path_pixels[x,y] = (255,0,0) # red\n",
    "        \n",
    "        \n",
    "        #print 'Path found between' , rect1_centre, ' and ', rect2_centre\n",
    "        \n",
    "        #if setParentChild([rect1_centre,rect2_centre]):\n",
    "        path_img.save('path.png')\n",
    "\n",
    "\n",
    "        print \"\\n\", dict_centre_text[rect1_centre],  \" <----> \", dict_centre_text[rect2_centre]\n",
    "        f.write(\"\\n%s <----> %s\" % (dict_centre_text[rect1_centre], dict_centre_text[rect2_centre]))\n",
    "        direct_paths.append([rect1_centre,rect2_centre])\n",
    "        return True\n",
    "    except:\n",
    "        #print \"Processing ...... Finding connections\"\n",
    "        #print 'No path found between' , rect1_centre, ' and ', rect2_centre\n",
    "        return False\n",
    "    "
   ]
  },
  {
   "cell_type": "code",
   "execution_count": null,
   "metadata": {
    "collapsed": true
   },
   "outputs": [],
   "source": [
    "def f(direct_paths):\n",
    "    for dp in direct_paths:\n",
    "        y0 = dp[0][1]\n",
    "        y1 = dp[1][1]\n",
    "    \n",
    "        if y0<= y1:\n",
    "            dict_p_c[dp[0]] = dp[1]\n",
    "        else:\n",
    "            dict_p_c[dp[1]] = dp[0]\n",
    "            \n",
    "            \n",
    "            \n",
    "        \n",
    "    "
   ]
  },
  {
   "cell_type": "code",
   "execution_count": 7,
   "metadata": {
    "collapsed": false
   },
   "outputs": [],
   "source": [
    "#combinations = [ ((5,16),(7,-6)),((1,6), (3,-4)),((4,6), (2,8))]\n",
    "def sortCombinations(combinations):\n",
    "    \n",
    "    initial_sort=[]\n",
    "    for c in combinations:\n",
    "        initial_sort.append(sorted(c, key=lambda tup: tup[1]))\n",
    "    \n",
    "    sorted_comb = sorted(initial_sort, key=lambda tup: tup[0][1])\n",
    "   \n",
    "    return sorted_comb\n",
    "    \n",
    "#sortCombinations(combinations)"
   ]
  },
  {
   "cell_type": "markdown",
   "metadata": {
    "collapsed": true
   },
   "source": []
  },
  {
   "cell_type": "code",
   "execution_count": 8,
   "metadata": {
    "collapsed": true
   },
   "outputs": [],
   "source": [
    "def getChildren(p):\n",
    "    for key in parentChildDict:\n",
    "        if p == key:\n",
    "            return parentChildDict[p]\n",
    "    return []\n",
    "\n",
    "#get parent of a given child\n",
    "\n",
    "def getParent(c):\n",
    "    for key in parentChildDict.keys():\n",
    "        if c in parentChildDict[key]:\n",
    "            hasParentList.append(c)\n",
    "            return key\n",
    "    return \"NA\"\n",
    "\n",
    "def alreadyHasParent(c):\n",
    "    if c in hasParentList:\n",
    "        return True\n",
    "    else:\n",
    "        return False"
   ]
  },
  {
   "cell_type": "code",
   "execution_count": 9,
   "metadata": {
    "collapsed": false
   },
   "outputs": [],
   "source": [
    "#find parent and child from direct_paths\n",
    "#and putting them in dictionay\n",
    "\n",
    "\n",
    "\n",
    "def setParentChild(dp):\n",
    "    \n",
    "    y0 = dp[0][1]\n",
    "    y1 = dp[1][1]\n",
    "\n",
    "    p1 = getParent(dp[0])\n",
    "    p2 = getParent(dp[1])\n",
    "    #print \"--------\",p1,p2\n",
    "    \n",
    "    \n",
    "  \n",
    "    if p1 == p2:\n",
    "        print \"don't add\"\n",
    "        \n",
    "    else:\n",
    "        if y0>=y1:\n",
    "            for \n",
    "    #parent = y1 lava\n",
    "    if y0>y1 and not (p1 != \"NA\" and p2 != \"NA\"):\n",
    "        #print \"PARENT     |     CHILD\"\n",
    "        #print dp[1],dp[0]\n",
    "\n",
    "        if dp[1] in parentChildDict.keys():\n",
    "            parentChildDict[dp[1]].append(dp[0])\n",
    "\n",
    "        else :    \n",
    "            parentChildDict[dp[1]] =[dp[0]]\n",
    "        return True\n",
    "    \n",
    "    elif y1>y0 and not (p1 != \"NA\" and p2 != \"NA\"):\n",
    "        #print \"PARENT     |     CHILD\"\n",
    "        #print dp[0],dp[1]\n",
    "        if( p1 != \"NA\" and p2 != \"NA\" ):\n",
    "            if(p1 == p2):\n",
    "                return False\n",
    "               \n",
    "        if dp[0] in parentChildDict.keys():\n",
    "            parentChildDict[dp[0]].append(dp[1])\n",
    "\n",
    "        else:    \n",
    "            parentChildDict[dp[0]] =[dp[1]]\n",
    "        return True\n",
    "    return False"
   ]
  },
  {
   "cell_type": "code",
   "execution_count": 10,
   "metadata": {
    "collapsed": false,
    "scrolled": true
   },
   "outputs": [],
   "source": [
    "# getting all the combinations\n",
    "\n",
    "# arab.jpg\n",
    "# uniq = [(375, 553, 1035, 1079), (376, 556, 974, 1016), (377, 556, 896, 954), (376, 556, 839, 878), (875, 1011, 813, 911), (82, 270, 805, 861), (614, 723, 788, 874), (375, 554, 762, 823), (875, 1011, 713, 799), (1061, 1192, 702, 753), (613, 723, 688, 774), (375, 554, 688, 748), (622, 985, 101, 169), (1244, 1373, 688, 760), (312, 512, 600, 675), (74, 274, 700, 775), (75, 274, 901, 974), (799, 1055, 600, 674), (575, 749, 601, 674), (636, 931, 276, 337)]\n",
    "# dict_centre_vert = {(176, 833): [(82, 270, 805, 861)], (668, 831): [(614, 723, 788, 874)], (927, 637): [(799, 1055, 600, 674)], (466, 995): [(376, 556, 974, 1016)], (662, 637): [(575, 749, 601, 674)], (943, 756): [(875, 1011, 713, 799)], (943, 862): [(875, 1011, 813, 911)], (174, 737): [(74, 274, 700, 775)], (466, 858): [(376, 556, 839, 878)], (464, 1057): [(375, 553, 1035, 1079)], (412, 637): [(312, 512, 600, 675)], (466, 925): [(377, 556, 896, 954)], (1308, 724): [(1244, 1373, 688, 760)], (1126, 727): [(1061, 1192, 702, 753)], (668, 731): [(613, 723, 688, 774)], (803, 135): [(622, 985, 101, 169)], (464, 718): [(375, 554, 688, 748)], (174, 937): [(75, 274, 901, 974)], (464, 792): [(375, 554, 762, 823)], (783, 306): [(636, 931, 276, 337)]}\n",
    "# centres = [(464, 1057), (466, 995), (466, 925), (466, 858), (943, 862), (176, 833), (668, 831), (464, 792), (943, 756), (1126, 727), (668, 731), (464, 718), (803, 135), (1308, 724), (412, 637), (174, 737), (174, 937), (927, 637), (662, 637), (783, 306)]\n",
    "\n",
    "# complex.jpg\n",
    "# uniq = [(714, 823, 795, 833), (506, 615, 716, 754), (714, 823, 713, 751), (29, 138, 675, 713), (506, 615, 634, 672), (714, 823, 632, 670), (29, 138, 614, 652), (29, 138, 553, 591), (714, 823, 552, 590), (506, 615, 552, 590), (316, 426, 552, 590), (1091, 1201, 503, 541), (880, 990, 503, 541), (28, 138, 491, 529), (316, 426, 471, 509), (1091, 1201, 422, 460), (880, 990, 422, 460), (316, 426, 391, 429), (880, 990, 260, 298), (256, 366, 260, 298), (411, 584, 139, 167), (411, 584, 28, 56), (505, 615, 798, 836), (316, 426, 634, 672), (6, 116, 260, 298), (505, 615, 470, 510), (742, 852, 390, 429), (591, 701, 390, 429), (191, 302, 390, 429), (66, 177, 390, 430), (1091, 1201, 340, 379), (880, 990, 340, 379), (755, 866, 259, 299), (629, 739, 259, 299), (504, 615, 259, 299), (379, 490, 259, 299), (131, 242, 259, 298), (1091, 1202, 573, 613)]\n",
    "# dict_centre_vert = {(434, 279): [(379, 490, 259, 299)], (1146, 593): [(1091, 1202, 573, 613)], (186, 278): [(131, 242, 259, 298)], (311, 279): [(256, 366, 260, 298)], (121, 410): [(66, 177, 390, 430)], (684, 279): [(629, 739, 259, 299)], (560, 653): [(506, 615, 634, 672)], (1146, 441): [(1091, 1201, 422, 460)], (83, 572): [(29, 138, 553, 591)], (560, 490): [(505, 615, 470, 510)], (371, 571): [(316, 426, 552, 590)], (560, 571): [(506, 615, 552, 590)], (61, 279): [(6, 116, 260, 298)], (83, 510): [(28, 138, 491, 529)], (371, 653): [(316, 426, 634, 672)], (371, 490): [(316, 426, 471, 509)], (935, 359): [(880, 990, 340, 379)], (246, 409): [(191, 302, 390, 429)], (559, 279): [(504, 615, 259, 299)], (560, 735): [(506, 615, 716, 754)], (497, 42): [(411, 584, 28, 56)], (935, 441): [(880, 990, 422, 460)], (810, 279): [(755, 866, 259, 299)], (83, 633): [(29, 138, 614, 652)], (935, 522): [(880, 990, 503, 541)], (1146, 522): [(1091, 1201, 503, 541)], (797, 409): [(742, 852, 390, 429)], (935, 279): [(880, 990, 260, 298)], (768, 732): [(714, 823, 713, 751)], (560, 817): [(505, 615, 798, 836)], (768, 571): [(714, 823, 552, 590)], (768, 651): [(714, 823, 632, 670)], (768, 814): [(714, 823, 795, 833)], (371, 410): [(316, 426, 391, 429)], (497, 153): [(411, 584, 139, 167)], (83, 694): [(29, 138, 675, 713)], (1146, 359): [(1091, 1201, 340, 379)], (646, 409): [(591, 701, 390, 429)]}\n",
    "# centres = [(768, 814), (560, 735), (768, 732), (83, 694), (560, 653), (768, 651), (83, 633), (83, 572), (768, 571), (560, 571), (371, 571), (1146, 522), (935, 522), (83, 510), (371, 490), (1146, 441), (935, 441), (371, 410), (935, 279), (311, 279), (497, 153), (497, 42), (560, 817), (371, 653), (61, 279), (560, 490), (797, 409), (646, 409), (246, 409), (121, 410), (1146, 359), (935, 359), (810, 279), (684, 279), (559, 279), (434, 279), (186, 278), (1146, 593)]\n",
    " \n",
    "# hsbc.jpg\n",
    "# uniq = [(145, 223, 146, 172), (127, 242, 208, 235), (159, 308, 13, 41), (249, 380, 208, 236), (363, 466, 145, 172), (229, 360, 146, 172), (9, 140, 146, 172), (160, 306, 67, 91)]\n",
    "# dict_centre_vert = {(74, 159): [(9, 140, 146, 172)], (233, 27): [(159, 308, 13, 41)], (184, 221): [(127, 242, 208, 235)], (233, 79): [(160, 306, 67, 91)], (294, 159): [(229, 360, 146, 172)], (314, 222): [(249, 380, 208, 236)], (414, 158): [(363, 466, 145, 172)], (184, 159): [(145, 223, 146, 172)]}\n",
    "# centres = [(184, 159), (184, 221), (233, 27), (314, 222), (414, 158), (294, 159), (74, 159), (233, 79)]\n",
    "# vertForCropping = uniq\n",
    "\n",
    "#------------------------\n",
    "def find_paths(vertForCropping,dict_centre_vert,centres,image_path, clientCentre, dict_centre_text,f):\n",
    "    a = iter(centres)\n",
    "    import itertools\n",
    "    combinations=[]\n",
    "    combinations.extend(itertools.combinations(a, 2))\n",
    "\n",
    "    # print \"-------------------Combinations--------------------\"\n",
    "    # print combinations\n",
    "\n",
    "    sorted_comb = sortCombinations(combinations)\n",
    "\n",
    "    # print \"---------------Sorted Combinations-----------------\"\n",
    "    # print sorted_comb\n",
    "\n",
    "\n",
    "    #finding if path is possible b/w all the combinations of rectnagles\n",
    "\n",
    "    num_of_direct_paths = 0\n",
    "\n",
    "    print ('\\n')\n",
    "    print \".... Finding relationships between entities ...... \"\n",
    "    \n",
    "    f.write('\\n')\n",
    "    for c in sorted_comb:\n",
    "\n",
    "        if (ifPathExists( vertForCropping, c[0], c[1], dict_centre_vert, image_path, dict_centre_text, f)):\n",
    "            num_of_direct_paths = num_of_direct_paths + 1\n",
    "\n",
    "    \n",
    "    print \"\\n\\nTotal number of connections = \", num_of_direct_paths\n",
    "    f.write(\"\\n\\nTotal number of connections = %d\" % num_of_direct_paths)\n",
    "    \n",
    "    drawHierarchyLines(image_path)\n",
    "    \n",
    "    no_of_levels = noOfLvls(clientCentre, centres)-1\n",
    "    print \"\\n\\nNumber of levels excluding client = \", no_of_levels\n",
    "    f.write(\"\\n\\nNumber of levels excluding client = %d\" % no_of_levels)\n",
    "    \n",
    "    return parentChildDict\n"
   ]
  },
  {
   "cell_type": "code",
   "execution_count": 11,
   "metadata": {
    "collapsed": false
   },
   "outputs": [],
   "source": [
    "def drawHierarchyLines(image_path):\n",
    "    im = cv2.imread(image_path)\n",
    "    x = 7\n",
    "    for k in parentChildDict.keys():\n",
    "\n",
    "        children = getChildren(k)\n",
    "        for child in children:\n",
    "            cv2.line(im,(k[0],k[1]),(child[0],child[1]),((271-x)%255,(5+x)%255,(127+x)%255),10)\n",
    "        x = x + 13\n",
    "    cv2.imwrite(\"output.png\",im)"
   ]
  },
  {
   "cell_type": "code",
   "execution_count": 12,
   "metadata": {
    "collapsed": false
   },
   "outputs": [],
   "source": [
    "def noOfLvls(centreOfClient,centres):\n",
    "    max_lvl = 0\n",
    "    \n",
    "    for centre in centres:\n",
    "        lvl = 1\n",
    "        curr = centre\n",
    "        while (getParent(curr) != \"NA\"): \n",
    "            lvl = lvl + 1\n",
    "            curr = getParent(curr) \n",
    "        if lvl > max_lvl:\n",
    "            max_lvl = lvl\n",
    " \n",
    "    return max_lvl\n"
   ]
  },
  {
   "cell_type": "code",
   "execution_count": null,
   "metadata": {
    "collapsed": true
   },
   "outputs": [],
   "source": []
  }
 ],
 "metadata": {
  "kernelspec": {
   "display_name": "Python 2",
   "language": "python",
   "name": "python2"
  },
  "language_info": {
   "codemirror_mode": {
    "name": "ipython",
    "version": 2
   },
   "file_extension": ".py",
   "mimetype": "text/x-python",
   "name": "python",
   "nbconvert_exporter": "python",
   "pygments_lexer": "ipython2",
   "version": "2.7.13"
  }
 },
 "nbformat": 4,
 "nbformat_minor": 0
}
