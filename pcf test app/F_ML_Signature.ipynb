{
 "cells": [
  {
   "cell_type": "code",
   "execution_count": 20,
   "metadata": {
    "collapsed": true
   },
   "outputs": [],
   "source": [
    "import os\n",
    "import sys\n",
    "import glob\n",
    "import subprocess\n",
    "from subprocess import STDOUT, check_output\n",
    "\n",
    "import dlib\n",
    "from skimage import io\n",
    "\n",
    "from xml.etree import ElementTree as et\n",
    "import xml.dom.minidom"
   ]
  },
  {
   "cell_type": "code",
   "execution_count": null,
   "metadata": {
    "collapsed": true
   },
   "outputs": [],
   "source": [
    "# code to kill the process if it takes too long\n",
    "# <NOTE> the time is in Seconds\n",
    "\n",
    "import subprocess, shlex\n",
    "from threading import Timer\n",
    "\n",
    "def kill_proc(proc, timeout):\n",
    "  timeout[\"value\"] = True\n",
    "  proc.kill()\n",
    "\n",
    "def run(cmd, timeout_sec):\n",
    "  proc = subprocess.Popen(shlex.split(cmd), stdout=subprocess.PIPE, stderr=subprocess.PIPE)\n",
    "  timeout = {\"value\": False}\n",
    "  timer = Timer(timeout_sec, kill_proc, [proc, timeout])\n",
    "  timer.start()\n",
    "  stdout, stderr = proc.communicate()\n",
    "  timer.cancel()\n",
    "  return proc.returncode, stdout.decode(\"utf-8\"), stderr.decode(\"utf-8\"), timeout[\"value\"]\n"
   ]
  },
  {
   "cell_type": "code",
   "execution_count": 41,
   "metadata": {
    "collapsed": false
   },
   "outputs": [],
   "source": [
    "def removeUselessText(filename):\n",
    "    l1 = \"<?xml version='1.0' encoding='ISO-8859-1'?>\"\n",
    "    l2 = \"<?xml-stylesheet type='text/xsl' href='image_metadata_stylesheet.xsl'?>\"\n",
    "    \n",
    "    f = open(filename,\"r+\")\n",
    "    d = f.readlines()\n",
    "    f.seek(0)\n",
    "    for i in d:\n",
    "        if not (l1 in i or l2 in i):\n",
    "            f.write(i)\n",
    "            print i\n",
    "    f.truncate()\n",
    "    f.close()"
   ]
  },
  {
   "cell_type": "code",
   "execution_count": null,
   "metadata": {
    "collapsed": true
   },
   "outputs": [],
   "source": [
    "# Function to serach for relevent data b/w 2 points\n",
    "\n",
    "def find_between( s, first, last ):\n",
    "    try:\n",
    "        start = s.index( first ) + len( first )\n",
    "        end = s.index( last, start )\n",
    "        return s[start:end]\n",
    "    except ValueError:\n",
    "        return \"\"\n",
    "    "
   ]
  },
  {
   "cell_type": "code",
   "execution_count": 47,
   "metadata": {
    "collapsed": false
   },
   "outputs": [
    {
     "name": "stdout",
     "output_type": "stream",
     "text": [
      "lines_to_insert - \n",
      "\n",
      "  <image file='hsbc.jpg'>\n",
      "    <box top='145' left='148' width='88' height='34'/>\n",
      "    <box top='204' left='126' width='127' height='37'/>\n",
      "    <box top='142' left='7' width='140' height='36'/>\n",
      "  </image>\n",
      "  <image file='hsbc2.jpg'>\n",
      "    <box top='126' left='115' width='123' height='28'/>\n",
      "    <box top='162' left='118' width='121' height='30'/>\n",
      "    <box top='195' left='118' width='122' height='31'/>\n",
      "  </image>\n",
      "\n"
     ]
    }
   ],
   "source": [
    "# Putting relevent data of xml2 to xml1\n",
    "\n",
    "def combineXML(xml1,xml2):\n",
    "\n",
    "    f = open(xml2,\"r+\")\n",
    "    lines_to_insert = find_between( f.read(), \"<images>\", \"</images>\" )\n",
    "    #print 'lines_to_insert - \\n',lines_to_insert \n",
    "    f.close()\n",
    "\n",
    "    with open(xml1, \"r+\") as f:\n",
    "        a = [x.rstrip() for x in f]\n",
    "        index = 0\n",
    "        for item in a:\n",
    "            if item.startswith(\"</images>\"):\n",
    "                a.insert(index, lines_to_insert) \n",
    "                break\n",
    "            index += 1\n",
    "        # Go to start of file and clear it\n",
    "        f.seek(0)\n",
    "        f.truncate()\n",
    "        # Write each line back\n",
    "        for line in a:\n",
    "            f.write(line + \"\\n\")"
   ]
  },
  {
   "cell_type": "code",
   "execution_count": 82,
   "metadata": {
    "collapsed": false
   },
   "outputs": [
    {
     "name": "stdout",
     "output_type": "stream",
     "text": [
      "<dataset>\n",
      "<name>imglab dataset</name>\n",
      "<comment>Created by imglab tool.</comment>\n",
      "<images>\n",
      "  <image file=\"hsbc.jpg\">\n",
      "    <box height=\"32\" left=\"163\" top=\"13\" width=\"152\" />\n",
      "    <box height=\"30\" left=\"163\" top=\"66\" width=\"153\" />\n",
      "  </image>\n",
      "  <image file=\"hsbc2.jpg\">\n",
      "\t<box height=\"32\" left=\"129\" top=\"208\" width=\"120\" />\n",
      "  </image>\n",
      "</images>\n",
      "</dataset> \n",
      " --------------\n",
      "<dataset>\n",
      "<name>imglab dataset</name>\n",
      "<comment>Created by imglab tool.</comment>\n",
      "<images>\n",
      "  <image file=\"hsbc.jpg\">\n",
      "    <box height=\"32\" left=\"129\" top=\"208\" width=\"120\" />\n",
      "    <box height=\"32\" left=\"252\" top=\"208\" width=\"135\" />\n",
      "  </image>\n",
      "  <image file=\"hsbc2.jpg\">\n",
      "    <box height=\"28\" left=\"115\" top=\"126\" width=\"120\" />\n",
      "    <box height=\"27\" left=\"116\" top=\"162\" width=\"123\" />\n",
      "    <box height=\"30\" left=\"117\" top=\"195\" width=\"123\" />\n",
      "  </image>\n",
      "</images>\n",
      "</dataset> \n",
      " --------------\n",
      "-------------------\n",
      "<dataset>\n",
      "<name>imglab dataset</name>\n",
      "<comment>Created by imglab tool.</comment>\n",
      "<images>\n",
      "  <image file=\"hsbc.jpg\">\n",
      "    <box height=\"32\" left=\"163\" top=\"13\" width=\"152\" />\n",
      "    <box height=\"30\" left=\"163\" top=\"66\" width=\"153\" />\n",
      "  </image>\n",
      "  <image file=\"hsbc2.jpg\">\n",
      "\t<box height=\"32\" left=\"129\" top=\"208\" width=\"120\" />\n",
      "  </image>\n",
      "<image file=\"hsbc.jpg\">\n",
      "    <box height=\"32\" left=\"129\" top=\"208\" width=\"120\" />\n",
      "    <box height=\"32\" left=\"252\" top=\"208\" width=\"135\" />\n",
      "  </image>\n",
      "  <image file=\"hsbc2.jpg\">\n",
      "    <box height=\"28\" left=\"115\" top=\"126\" width=\"120\" />\n",
      "    <box height=\"27\" left=\"116\" top=\"162\" width=\"123\" />\n",
      "    <box height=\"30\" left=\"117\" top=\"195\" width=\"123\" />\n",
      "  </image>\n",
      "</images>\n",
      "</dataset>\n"
     ]
    }
   ],
   "source": [
    "# import os, os.path, sys\n",
    "# import glob\n",
    "# from xml.etree import ElementTree\n",
    "\n",
    "# def runXMLComb():\n",
    "#     xml_files = ['input_images_ML/training.xml','input_images_ML/trainingTemp.xml']\n",
    "#     xml_element_tree = None\n",
    "#     for xml_file in xml_files:\n",
    "#         data = ElementTree.parse(xml_file).getroot()\n",
    "#         print ElementTree.tostring(data), '\\n --------------'\n",
    "#         for result in data.iter('images'):\n",
    "#             if xml_element_tree is None:\n",
    "#                 xml_element_tree = data \n",
    "#                 insertion_point = xml_element_tree.findall(\"./images\")[0]\n",
    "#             else:\n",
    "#                 insertion_point.extend(result) \n",
    "#     if xml_element_tree is not None:\n",
    "#         print '-------------------'\n",
    "#         print ElementTree.tostring(xml_element_tree)\n",
    "\n",
    "# runXMLComb()"
   ]
  },
  {
   "cell_type": "code",
   "execution_count": 84,
   "metadata": {
    "collapsed": false
   },
   "outputs": [
    {
     "name": "stdout",
     "output_type": "stream",
     "text": [
      "--------------------\n",
      "<dataset>\n",
      "<name>imglab dataset</name>\n",
      "<comment>Created by imglab tool.</comment>\n",
      "<images>\n",
      "  <image file=\"hsbc.jpg\">\n",
      "    <box height=\"32\" left=\"163\" top=\"13\" width=\"152\" />\n",
      "    <box height=\"30\" left=\"163\" top=\"66\" width=\"153\" />\n",
      "  <box height=\"32\" left=\"129\" top=\"208\" width=\"120\" />\n",
      "    <box height=\"32\" left=\"252\" top=\"208\" width=\"135\" />\n",
      "  </image>\n",
      "  <image file=\"hsbc2.jpg\">\n",
      "\t<box height=\"32\" left=\"129\" top=\"208\" width=\"120\" />\n",
      "  <box height=\"28\" left=\"115\" top=\"126\" width=\"120\" />\n",
      "    <box height=\"27\" left=\"116\" top=\"162\" width=\"123\" />\n",
      "    <box height=\"30\" left=\"117\" top=\"195\" width=\"123\" />\n",
      "  </image>\n",
      "</images>\n",
      "</dataset>\n"
     ]
    }
   ],
   "source": [
    "import sys\n",
    "from xml.etree import ElementTree as et\n",
    "\n",
    "\n",
    "class hashabledict(dict):\n",
    "    def __hash__(self):\n",
    "        return hash(tuple(sorted(self.items())))\n",
    "\n",
    "\n",
    "class XMLCombiner(object):\n",
    "    def __init__(self, filenames):\n",
    "        assert len(filenames) > 0, 'No filenames!'\n",
    "        # save all the roots, in order, to be processed later\n",
    "        self.roots = [et.parse(f).getroot() for f in filenames]\n",
    "\n",
    "    def combine(self):\n",
    "        for r in self.roots[1:]:\n",
    "            # combine each element with the first one, and update that\n",
    "            self.combine_element(self.roots[0], r)\n",
    "        # return the string representation\n",
    "        return et.ElementTree(self.roots[0])\n",
    "\n",
    "    def combine_element(self, one, other):\n",
    "        \"\"\"\n",
    "        This function recursively updates either the text or the children\n",
    "        of an element if another element is found in `one`, or adds it\n",
    "        from `other` if not found.\n",
    "        \"\"\"\n",
    "        # Create a mapping from tag name to element, as that's what we are fltering with\n",
    "        mapping = {(el.tag, hashabledict(el.attrib)): el for el in one}\n",
    "        for el in other:\n",
    "            if len(el) == 0:\n",
    "                # Not nested\n",
    "                try:\n",
    "                    # Update the text\n",
    "                    mapping[(el.tag, hashabledict(el.attrib))].text = el.text\n",
    "                except KeyError:\n",
    "                    # An element with this name is not in the mapping\n",
    "                    mapping[(el.tag, hashabledict(el.attrib))] = el\n",
    "                    # Add it\n",
    "                    one.append(el)\n",
    "            else:\n",
    "                try:\n",
    "                    # Recursively process the element, and update it in the same way\n",
    "                    self.combine_element(mapping[(el.tag, hashabledict(el.attrib))], el)\n",
    "                except KeyError:\n",
    "                    # Not in the mapping\n",
    "                    mapping[(el.tag, hashabledict(el.attrib))] = el\n",
    "                    # Just add it\n",
    "                    one.append(el)\n",
    "\n",
    "\n",
    "# image_folder = \"input_images_ML/\"\n",
    "# xml1 = image_folder + \"/training.xml\"\n",
    "# xml2 = image_folder + \"/trainingTemp.xml\" \n",
    "\n",
    "# r = XMLCombiner((xml1, xml2)).combine()\n",
    "# print '-'*20\n",
    "# print et.tostring(r.getroot())"
   ]
  },
  {
   "cell_type": "code",
   "execution_count": 22,
   "metadata": {
    "collapsed": false
   },
   "outputs": [
    {
     "ename": "NameError",
     "evalue": "global name 'run' is not defined",
     "output_type": "error",
     "traceback": [
      "\u001b[1;31m---------------------------------------------------------------------------\u001b[0m",
      "\u001b[1;31mNameError\u001b[0m                                 Traceback (most recent call last)",
      "\u001b[1;32m<ipython-input-22-19b191684e49>\u001b[0m in \u001b[0;36m<module>\u001b[1;34m()\u001b[0m\n\u001b[0;32m     85\u001b[0m \u001b[0muser_choice\u001b[0m \u001b[1;33m=\u001b[0m \u001b[1;34m\"train\"\u001b[0m\u001b[1;33m\u001b[0m\u001b[0m\n\u001b[0;32m     86\u001b[0m \u001b[0mimage_folder\u001b[0m \u001b[1;33m=\u001b[0m \u001b[1;34m\"input_images_ML/\"\u001b[0m\u001b[1;33m\u001b[0m\u001b[0m\n\u001b[1;32m---> 87\u001b[1;33m \u001b[0mtrain\u001b[0m\u001b[1;33m(\u001b[0m\u001b[0mimage_folder\u001b[0m\u001b[1;33m,\u001b[0m\u001b[1;36m1\u001b[0m\u001b[1;33m)\u001b[0m\u001b[1;33m\u001b[0m\u001b[0m\n\u001b[0m",
      "\u001b[1;32m<ipython-input-22-19b191684e49>\u001b[0m in \u001b[0;36mtrain\u001b[1;34m(image_folder, append)\u001b[0m\n\u001b[0;32m     20\u001b[0m \u001b[1;33m\u001b[0m\u001b[0m\n\u001b[0;32m     21\u001b[0m         \u001b[0mcmd\u001b[0m \u001b[1;33m=\u001b[0m \u001b[1;34m'createXML.exe -c'\u001b[0m \u001b[1;33m+\u001b[0m \u001b[0mimage_folder\u001b[0m \u001b[1;33m+\u001b[0m \u001b[1;34m'/trainingTemp.xml '\u001b[0m\u001b[1;33m+\u001b[0m \u001b[0mimage_folder\u001b[0m\u001b[1;33m\u001b[0m\u001b[0m\n\u001b[1;32m---> 22\u001b[1;33m         \u001b[0mrun\u001b[0m\u001b[1;33m(\u001b[0m\u001b[0mcmd\u001b[0m\u001b[1;33m,\u001b[0m\u001b[1;36m5\u001b[0m\u001b[1;33m)\u001b[0m\u001b[1;33m\u001b[0m\u001b[0m\n\u001b[0m\u001b[0;32m     23\u001b[0m \u001b[1;33m\u001b[0m\u001b[0m\n\u001b[0;32m     24\u001b[0m \u001b[1;33m\u001b[0m\u001b[0m\n",
      "\u001b[1;31mNameError\u001b[0m: global name 'run' is not defined"
     ]
    }
   ],
   "source": [
    "def train(image_folder,append):\n",
    "    \n",
    "    \n",
    "    \n",
    "    if append == 0:\n",
    "    \n",
    "        #code to open createXML for the noob user with all the required params\n",
    "\n",
    "        cmd = 'createXML.exe -c' + image_folder + '/training.xml '+ image_folder\n",
    "        run(cmd,5)\n",
    "\n",
    "        cmd = 'createXML.exe ' + image_folder + '/training.xml'\n",
    "        run(cmd,100)\n",
    "        \n",
    "    # <NOTE> <IN PROGRESS> include code to write new XML to the old XML and use the latter for the training \n",
    "    \n",
    "    elif append == 1:\n",
    "            \n",
    "        #code to open createXML for the noob user with all the required params\n",
    "\n",
    "        cmd = 'createXML.exe -c' + image_folder + '/trainingTemp.xml '+ image_folder\n",
    "        run(cmd,5)\n",
    "        \n",
    "        \n",
    "        cmd = 'createXML.exe ' + image_folder + '/trainingTemp.xml'\n",
    "        run(cmd,100)\n",
    "        \n",
    "        dlib.hit_enter_to_continue()\n",
    "        \n",
    "        # doing all the magic stuff to append the new XML to the old one\n",
    "        \n",
    "        xml1 = image_folder + \"/training.xml\"\n",
    "        xml2 = image_folder + \"/trainingTemp.xml\" \n",
    "\n",
    "        removeUselessText(xml1)\n",
    "        removeUselessText(xml2)\n",
    "\n",
    "\n",
    "        \n",
    "        #combineXML(xml1,xml2)\n",
    "        r = XMLCombiner((xml1, xml2)).combine()\n",
    "        \n",
    "        with open(xml1, \"r+\") as f:\n",
    "            f.write(et.tostring(r.getroot()))\n",
    "\n",
    "\n",
    "        #Convert the XML to better format before saving it for the training as there may be some improper indentation \n",
    "\n",
    "        \n",
    "    \n",
    "    \n",
    "    # setting option in dlib\n",
    "\n",
    "    options = dlib.simple_object_detector_training_options()\n",
    "\n",
    "    # symmetric detector\n",
    "    options.add_left_right_image_flips = True\n",
    "\n",
    "    # SVM C parameter.larger value will lead to overfitting\n",
    "    options.C = 1\n",
    "\n",
    "    # Tell the code how many CPU cores your computer has for the fastest training.\n",
    "    options.num_threads = 4\n",
    "    options.be_verbose = True\n",
    "    \n",
    "    training_xml_path = os.path.join(image_folder, \"training.xml\")\n",
    "    #testing_xml_path = os.path.join(image_folder, \"testing.xml\")\n",
    "    \n",
    "    # saving the detector as detector.svm with input as the xml file after doing the training \n",
    "    \n",
    "\n",
    "    dlib.train_simple_object_detector(training_xml_path, \"detector.svm\", options)\n",
    "    \n",
    "    # Printing the accuracy with training data\n",
    "\n",
    "    print(\"\\nTraining accuracy: {}\".format(\n",
    "    dlib.test_simple_object_detector(training_xml_path, \"detector.svm\")))\n",
    "    \n",
    "    # Doing the detection \n",
    "    detector = dlib.simple_object_detector(\"detector.svm\")\n",
    "\n",
    "    # Looking at the HOG filter the machine has learned. \n",
    "    win_det = dlib.image_window()\n",
    "    win_det.set_image(detector)\n",
    "\n"
   ]
  },
  {
   "cell_type": "code",
   "execution_count": 7,
   "metadata": {
    "collapsed": true
   },
   "outputs": [],
   "source": [
    "def predict(image_folder):\n",
    "     # Doing the detection \n",
    "    detector = dlib.simple_object_detector(\"detector.svm\")\n",
    "\n",
    "    # Looking at the HOG filter the machine has learned. \n",
    "    win_det = dlib.image_window()\n",
    "    win_det.set_image(detector)\n",
    "    \n",
    "    # running the detector for all the images in the folder\n",
    "    print(\"Using ML the images for detection...\")\n",
    "    win = dlib.image_window()\n",
    "    for f in glob.glob(os.path.join(image_folder, \"*.jpg\")):\n",
    "        print(\"Processing file: {}\".format(f))\n",
    "        img = io.imread(f)\n",
    "        dets = detector(img)\n",
    "        print(\"Number of detections: {}\".format(len(dets)))\n",
    "        for k, d in enumerate(dets):\n",
    "            print(\"Detection {}: Left: {} Top: {} Right: {} Bottom: {}\".format(\n",
    "                k, d.left(), d.top(), d.right(), d.bottom()))\n",
    "\n",
    "        win.clear_overlay()\n",
    "        win.set_image(img)\n",
    "        win.add_overlay(dets)\n",
    "        dlib.hit_enter_to_continue()"
   ]
  },
  {
   "cell_type": "code",
   "execution_count": 8,
   "metadata": {
    "collapsed": false
   },
   "outputs": [],
   "source": [
    "# ................ uncomment after testing ................  \n",
    "\n",
    "if len(sys.argv) != 3:\n",
    "    print \"Kindly use this format to run the code : python F_ML.py <options> <path to the image dir>\"\n",
    "    exit()\n",
    "\n",
    "user_choice = sys.argv[1]\n",
    "image_folder = sys.argv[2]"
   ]
  },
  {
   "cell_type": "code",
   "execution_count": 9,
   "metadata": {
    "collapsed": false
   },
   "outputs": [],
   "source": [
    "# # ................ comment after testing ................  \n",
    "\n",
    "# user_choice = \"train\"\n",
    "# image_folder = \"input_images_ML/\""
   ]
  },
  {
   "cell_type": "code",
   "execution_count": 10,
   "metadata": {
    "collapsed": false
   },
   "outputs": [
    {
     "name": "stdout",
     "output_type": "stream",
     "text": [
      "\n",
      "Training accuracy: precision: 1, recall: 1, average precision: 1\n"
     ]
    }
   ],
   "source": [
    "if user_choice == \"train\":\n",
    "    train(image_folder,0)\n",
    "elif user_choice == \"trainAppend\":\n",
    "    train(image_folder,1)\n",
    "elif user_choice == \"predict\":\n",
    "    predict(image_folder)\n",
    "else :\n",
    "    print \"Wrong parameter given as <option> please check and try again\"\n",
    "\n",
    "exit()"
   ]
  }
 ],
 "metadata": {
  "kernelspec": {
   "display_name": "Python 2",
   "language": "python",
   "name": "python2"
  },
  "language_info": {
   "codemirror_mode": {
    "name": "ipython",
    "version": 2
   },
   "file_extension": ".py",
   "mimetype": "text/x-python",
   "name": "python",
   "nbconvert_exporter": "python",
   "pygments_lexer": "ipython2",
   "version": "2.7.13"
  }
 },
 "nbformat": 4,
 "nbformat_minor": 0
}
