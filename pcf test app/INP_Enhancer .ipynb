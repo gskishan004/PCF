{
 "cells": [
  {
   "cell_type": "code",
   "execution_count": 4,
   "metadata": {
    "collapsed": true
   },
   "outputs": [],
   "source": [
    "import cv2\n",
    "import numpy as np"
   ]
  },
  {
   "cell_type": "code",
   "execution_count": 5,
   "metadata": {
    "collapsed": false
   },
   "outputs": [],
   "source": [
    "#converting the image to grey scale\n",
    "\n",
    "im_gray = cv2.imread('test4.jpg', cv2.CV_LOAD_IMAGE_GRAYSCALE)\n"
   ]
  },
  {
   "cell_type": "code",
   "execution_count": 6,
   "metadata": {
    "collapsed": false
   },
   "outputs": [
    {
     "name": "stdout",
     "output_type": "stream",
     "text": [
      "161.0\n"
     ]
    },
    {
     "data": {
      "text/plain": [
       "\"\\n#kernel = np.array([[20,0,10], [100,0,100], [-20,0,-10]])\\nkernel = np.array([[-10,-20,-10], [0,0,0], [10,20,10]])\\n#kernel = np.array([[1,1,1], [1,1,1], [1,1,1]])\\n\\n\\nim = cv2.filter2D(im_bw, -1, kernel)\\n\\ncv2.imshow('image',im)\\ncv2.waitKey(0)\\n\\nkernel = np.array([[-10,0,10], [-20,0,20], [-10,0,10]])\\nim2 = cv2.filter2D(im_bw, -1, kernel)\\nadd_im = cv2.add(im,im2)\\nen_img = cv2.bitwise_not(add_im)\\ncv2.imshow('image',en_img)\\n\""
      ]
     },
     "execution_count": 6,
     "metadata": {},
     "output_type": "execute_result"
    }
   ],
   "source": [
    "#converting the image to bw image\n",
    "\n",
    "\n",
    "(thresh, im_bw) = cv2.threshold(im_gray, 128, 255, cv2.THRESH_BINARY | cv2.THRESH_OTSU)\n",
    "print thresh\n",
    "#thresh = 10\n",
    "\n",
    "\n",
    "im_gray = cv2.threshold(im_gray, thresh, 255, cv2.THRESH_BINARY)[1]\n",
    "\n",
    "\n",
    "#im_gray = cv2.Canny(im_gray, 10, 100)\n",
    "#im_gray = cv2.bitwise_not(im_gray)\n",
    "\n",
    "cv2.imwrite('inp2.png',im_gray)\n",
    "\n",
    "cv2.imshow('image',im_gray)\n",
    "cv2.waitKey(0)\n",
    "\n",
    "\n",
    "\n",
    "'''\n",
    "#kernel = np.array([[20,0,10], [100,0,100], [-20,0,-10]])\n",
    "kernel = np.array([[-10,-20,-10], [0,0,0], [10,20,10]])\n",
    "#kernel = np.array([[1,1,1], [1,1,1], [1,1,1]])\n",
    "\n",
    "\n",
    "im = cv2.filter2D(im_bw, -1, kernel)\n",
    "\n",
    "cv2.imshow('image',im)\n",
    "cv2.waitKey(0)\n",
    "\n",
    "kernel = np.array([[-10,0,10], [-20,0,20], [-10,0,10]])\n",
    "im2 = cv2.filter2D(im_bw, -1, kernel)\n",
    "add_im = cv2.add(im,im2)\n",
    "en_img = cv2.bitwise_not(add_im)\n",
    "cv2.imshow('image',en_img)\n",
    "'''"
   ]
  },
  {
   "cell_type": "code",
   "execution_count": 39,
   "metadata": {
    "collapsed": false
   },
   "outputs": [
    {
     "data": {
      "text/plain": [
       "True"
      ]
     },
     "execution_count": 39,
     "metadata": {},
     "output_type": "execute_result"
    }
   ],
   "source": [
    "#saving image as bw_inp\n",
    "\n",
    "cv2.imwrite('bw_img.png',im_bw)"
   ]
  },
  {
   "cell_type": "code",
   "execution_count": 40,
   "metadata": {
    "collapsed": false
   },
   "outputs": [
    {
     "data": {
      "text/plain": [
       "-1"
      ]
     },
     "execution_count": 40,
     "metadata": {},
     "output_type": "execute_result"
    }
   ],
   "source": [
    "median = cv2.medianBlur(im_bw,5)\n",
    "                        \n",
    "cv2.imshow('image',median)\n",
    "cv2.waitKey(0)\n"
   ]
  },
  {
   "cell_type": "code",
   "execution_count": 60,
   "metadata": {
    "collapsed": false
   },
   "outputs": [
    {
     "data": {
      "text/plain": [
       "-1"
      ]
     },
     "execution_count": 60,
     "metadata": {},
     "output_type": "execute_result"
    }
   ],
   "source": [
    "#kernel = np.array([[-1,-1,-1], [-1,9,-1], [-1,-1,-1]])\n",
    "#kernel = np.array([[1,1,1], [1,1,1], [1,1,1]])\n",
    "kernel = np.array([[2,0,1], [1,0,-0], [-2,0,0]])\n",
    "im = cv2.filter2D(im_bw, -1, kernel)\n",
    "\n",
    "\n",
    "cv2.imwrite('image2.jpg',im)\n",
    "cv2.waitKey(0)"
   ]
  },
  {
   "cell_type": "code",
   "execution_count": 10,
   "metadata": {
    "collapsed": false
   },
   "outputs": [
    {
     "data": {
      "text/plain": [
       "\"\\nfrom PIL import Image\\nfrom PIL import ImageFilter\\nim = Image.open(r'test.png')\\nwhite = im.filter(ImageFilter.BLUR).filter(ImageFilter.MaxFilter(15))\\n\\ngrey = im.convert('L')\\nwidth,height = im.size\\nimpix = im.load()\\nwhitepix = white.load()\\ngreypix = grey.load()\\n.show()\\n\\nfor y in range(height):\\n    for x in range(width):\\n        greypix[x,y] = min(255, max(255 + impix[x,y][0] - whitepix[x,y][0], 255 + impix[x,y][7] - whitepix[x,y][8], 255 + impix[x,y][9] - whitepix[x,y][10]))\\n\\ngreypix.show() \\n\""
      ]
     },
     "execution_count": 10,
     "metadata": {},
     "output_type": "execute_result"
    }
   ],
   "source": [
    "'''\n",
    "from PIL import Image\n",
    "from PIL import ImageFilter\n",
    "im = Image.open(r'test.png')\n",
    "white = im.filter(ImageFilter.BLUR).filter(ImageFilter.MaxFilter(15))\n",
    "\n",
    "grey = im.convert('L')\n",
    "width,height = im.size\n",
    "impix = im.load()\n",
    "whitepix = white.load()\n",
    "greypix = grey.load()\n",
    ".show()\n",
    "\n",
    "for y in range(height):\n",
    "    for x in range(width):\n",
    "        greypix[x,y] = min(255, max(255 + impix[x,y][0] - whitepix[x,y][0], 255 + impix[x,y][7] - whitepix[x,y][8], 255 + impix[x,y][9] - whitepix[x,y][10]))\n",
    "\n",
    "greypix.show() \n",
    "'''"
   ]
  },
  {
   "cell_type": "code",
   "execution_count": 12,
   "metadata": {
    "collapsed": true
   },
   "outputs": [],
   "source": [
    "import cv2\n",
    "import numpy as np\n",
    "from matplotlib import pyplot as plt\n",
    "img = cv2.imread('test2.jpg',0)\n",
    "edges = cv2.Canny(img,100,200)\n",
    "plt.subplot(121),plt.imshow(img,cmap = 'gray')\n",
    "plt.title('Original Image'), plt.xticks([]), plt.yticks([])\n",
    "plt.subplot(122),plt.imshow(edges,cmap = 'gray')\n",
    "plt.title('Edge Image'), plt.xticks([]), plt.yticks([])\n",
    "plt.show()"
   ]
  },
  {
   "cell_type": "code",
   "execution_count": 13,
   "metadata": {
    "collapsed": false
   },
   "outputs": [
    {
     "name": "stdout",
     "output_type": "stream",
     "text": [
      "abc\n"
     ]
    }
   ],
   "source": [
    "print \"abc\""
   ]
  },
  {
   "cell_type": "code",
   "execution_count": null,
   "metadata": {
    "collapsed": true
   },
   "outputs": [],
   "source": []
  }
 ],
 "metadata": {
  "kernelspec": {
   "display_name": "Python 2",
   "language": "python",
   "name": "python2"
  },
  "language_info": {
   "codemirror_mode": {
    "name": "ipython",
    "version": 2
   },
   "file_extension": ".py",
   "mimetype": "text/x-python",
   "name": "python",
   "nbconvert_exporter": "python",
   "pygments_lexer": "ipython2",
   "version": "2.7.13"
  }
 },
 "nbformat": 4,
 "nbformat_minor": 0
}
