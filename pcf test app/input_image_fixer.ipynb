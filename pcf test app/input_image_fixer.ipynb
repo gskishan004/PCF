{
 "cells": [
  {
   "cell_type": "code",
   "execution_count": 20,
   "metadata": {
    "collapsed": true
   },
   "outputs": [],
   "source": [
    "import cv2\n",
    "import numpy as np"
   ]
  },
  {
   "cell_type": "code",
   "execution_count": 21,
   "metadata": {
    "collapsed": true
   },
   "outputs": [],
   "source": [
    "im = cv2.imread(\"Organization Chart.jpg\")"
   ]
  },
  {
   "cell_type": "code",
   "execution_count": 22,
   "metadata": {
    "collapsed": false
   },
   "outputs": [],
   "source": [
    "#blurring the image\n",
    "\n",
    "# im = cv2.medianBlur(im,5)\n",
    "# im = cv2.filter2D(im, -1, kernel)"
   ]
  },
  {
   "cell_type": "code",
   "execution_count": 23,
   "metadata": {
    "collapsed": false
   },
   "outputs": [],
   "source": [
    "#converting the image to grey scale\n",
    "\n",
    "gray_im = cv2.cvtColor(im, cv2.COLOR_BGR2GRAY)"
   ]
  },
  {
   "cell_type": "code",
   "execution_count": 24,
   "metadata": {
    "collapsed": false,
    "scrolled": true
   },
   "outputs": [
    {
     "data": {
      "text/plain": [
       "True"
      ]
     },
     "execution_count": 24,
     "metadata": {},
     "output_type": "execute_result"
    }
   ],
   "source": [
    "#thresholding the image\n",
    "\n",
    "th_im = cv2.adaptiveThreshold(gray_im,255,cv2.ADAPTIVE_THRESH_GAUSSIAN_C,\\\n",
    "            cv2.THRESH_BINARY,11,2)\n",
    "\n",
    "#saving the image\n",
    "\n",
    "cv2.imwrite('test_inp.jpg',gray_im)"
   ]
  },
  {
   "cell_type": "code",
   "execution_count": 25,
   "metadata": {
    "collapsed": false
   },
   "outputs": [
    {
     "data": {
      "text/plain": [
       "True"
      ]
     },
     "execution_count": 25,
     "metadata": {},
     "output_type": "execute_result"
    }
   ],
   "source": [
    "#doing dilationa and then erosion to sharpen the image\n",
    "\n",
    "#uint8\tUnsigned integer (0 to 255)\n",
    "\n",
    "kernel = np.ones((2,2), np.uint8)\n",
    "img_2 = im.copy()\n",
    "\n",
    "# img_2 = cv2.medianBlur(img_2,5)\n",
    "# img_2 = cv2.dilate(img_2, kernel, iterations=1)\n",
    "# img_2 = cv2.erode(img_2, kernel, iterations=1)\n",
    "img_2 = cv2.cvtColor(img_2, cv2.COLOR_BGR2GRAY)\n",
    "#img_2 = cv2.adaptiveThreshold(img_2,255,cv2.ADAPTIVE_THRESH_GAUSSIAN_C,cv2.THRESH_BINARY,11,2)\n",
    "\n",
    "img_2 = cv2.erode(img_2, kernel, iterations=1)\n",
    "\n",
    "img_2 = cv2.dilate(img_2, kernel, iterations=1)\n",
    "img_2 = cv2.adaptiveThreshold(img_2,255,cv2.ADAPTIVE_THRESH_GAUSSIAN_C,cv2.THRESH_BINARY,11,2)\n",
    "\n",
    "\n",
    "\n",
    "cv2.imwrite('test_inp2.jpg',img_2)"
   ]
  },
  {
   "cell_type": "code",
   "execution_count": 26,
   "metadata": {
    "collapsed": false
   },
   "outputs": [
    {
     "name": "stdout",
     "output_type": "stream",
     "text": [
      "Collecting tesserocr\n",
      "  Using cached tesserocr-2.2.1.tar.gz\n",
      "Building wheels for collected packages: tesserocr\n",
      "  Running setup.py bdist_wheel for tesserocr: started\n",
      "  Running setup.py bdist_wheel for tesserocr: finished with status 'error'\n",
      "  Complete output from command C:\\Users\\dell\\Anaconda2\\python.exe -u -c \"import setuptools, tokenize;__file__='c:\\\\users\\\\dell\\\\appdata\\\\local\\\\temp\\\\pip-build-bisgkx\\\\tesserocr\\\\setup.py';f=getattr(tokenize, 'open', open)(__file__);code=f.read().replace('\\r\\n', '\\n');f.close();exec(compile(code, __file__, 'exec'))\" bdist_wheel -d c:\\users\\dell\\appdata\\local\\temp\\tmp_0mkqtpip-wheel- --python-tag cp27:\n",
      "  Supporting tesseract v4.00.00\n",
      "  Building with configs: {'libraries': ['tesseract', 'lept'], 'cython_compile_time_env': {'TESSERACT_VERSION': 262144}}\n",
      "  running bdist_wheel\n",
      "  running build\n",
      "  running build_ext\n",
      "  building 'tesserocr' extension\n",
      "  error: Microsoft Visual C++ 9.0 is required (Unable to find vcvarsall.bat). Get it from http://aka.ms/vcpython27\n",
      "  \n",
      "  ----------------------------------------\n"
     ]
    },
    {
     "name": "stderr",
     "output_type": "stream",
     "text": [
      "  Failed building wheel for tesserocr\n"
     ]
    },
    {
     "name": "stdout",
     "output_type": "stream",
     "text": [
      "  Running setup.py clean for tesserocr\n",
      "Failed to build tesserocr\n",
      "Installing collected packages: tesserocr\n",
      "  Running setup.py install for tesserocr: started\n",
      "    Running setup.py install for tesserocr: finished with status 'error'\n",
      "    Complete output from command C:\\Users\\dell\\Anaconda2\\python.exe -u -c \"import setuptools, tokenize;__file__='c:\\\\users\\\\dell\\\\appdata\\\\local\\\\temp\\\\pip-build-bisgkx\\\\tesserocr\\\\setup.py';f=getattr(tokenize, 'open', open)(__file__);code=f.read().replace('\\r\\n', '\\n');f.close();exec(compile(code, __file__, 'exec'))\" install --record c:\\users\\dell\\appdata\\local\\temp\\pip-ms2vt3-record\\install-record.txt --single-version-externally-managed --compile:\n",
      "    Supporting tesseract v4.00.00\n",
      "    Building with configs: {'libraries': ['tesseract', 'lept'], 'cython_compile_time_env': {'TESSERACT_VERSION': 262144}}\n",
      "    running install\n",
      "    running build\n",
      "    running build_ext\n",
      "    building 'tesserocr' extension\n",
      "    error: Microsoft Visual C++ 9.0 is required (Unable to find vcvarsall.bat). Get it from http://aka.ms/vcpython27\n",
      "    \n",
      "    ----------------------------------------\n"
     ]
    },
    {
     "name": "stderr",
     "output_type": "stream",
     "text": [
      "Command \"C:\\Users\\dell\\Anaconda2\\python.exe -u -c \"import setuptools, tokenize;__file__='c:\\\\users\\\\dell\\\\appdata\\\\local\\\\temp\\\\pip-build-bisgkx\\\\tesserocr\\\\setup.py';f=getattr(tokenize, 'open', open)(__file__);code=f.read().replace('\\r\\n', '\\n');f.close();exec(compile(code, __file__, 'exec'))\" install --record c:\\users\\dell\\appdata\\local\\temp\\pip-ms2vt3-record\\install-record.txt --single-version-externally-managed --compile\" failed with error code 1 in c:\\users\\dell\\appdata\\local\\temp\\pip-build-bisgkx\\tesserocr\\\n"
     ]
    },
    {
     "data": {
      "text/plain": [
       "1"
      ]
     },
     "execution_count": 26,
     "metadata": {},
     "output_type": "execute_result"
    }
   ],
   "source": [
    "import pip\n",
    "pip.main([\"install\", \"tesserocr\"])"
   ]
  },
  {
   "cell_type": "code",
   "execution_count": null,
   "metadata": {
    "collapsed": true
   },
   "outputs": [],
   "source": []
  }
 ],
 "metadata": {
  "kernelspec": {
   "display_name": "Python 2",
   "language": "python",
   "name": "python2"
  },
  "language_info": {
   "codemirror_mode": {
    "name": "ipython",
    "version": 2
   },
   "file_extension": ".py",
   "mimetype": "text/x-python",
   "name": "python",
   "nbconvert_exporter": "python",
   "pygments_lexer": "ipython2",
   "version": "2.7.13"
  }
 },
 "nbformat": 4,
 "nbformat_minor": 0
}
